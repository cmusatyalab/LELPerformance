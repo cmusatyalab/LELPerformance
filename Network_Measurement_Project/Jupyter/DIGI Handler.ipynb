{
 "cells": [
  {
   "cell_type": "code",
   "execution_count": 1,
   "id": "93ac015d",
   "metadata": {},
   "outputs": [],
   "source": [
    "import os\n",
    "import sys\n",
    "import subprocess\n",
    "import shutil\n",
    "import pandas as pd\n",
    "import numpy as np\n",
    "import xmltodict\n",
    "import json\n",
    "import hashlib\n",
    "import requests\n",
    "import getpass\n",
    "from requests import Response\n",
    "from time import sleep\n",
    "\n",
    "import matplotlib\n",
    "import matplotlib.pyplot as plt\n",
    "from pandas.plotting import table\n",
    "\n",
    "HOMEDIR=\".\""
   ]
  },
  {
   "cell_type": "code",
   "execution_count": 2,
   "id": "72868795",
   "metadata": {},
   "outputs": [
    {
     "name": "stdout",
     "output_type": "stream",
     "text": [
      "['/home/jblake1/git/LELPerformance/Network_Measurement_Project/Jupyter', '/usr/lib/python38.zip', '/usr/lib/python3.8', '/usr/lib/python3.8/lib-dynload', '', '/home/jblake1/.local/lib/python3.8/site-packages', '/usr/local/lib/python3.8/dist-packages', '/usr/lib/python3/dist-packages', '../../lib']\n"
     ]
    }
   ],
   "source": [
    "sys.path.append(\"../../lib\")\n",
    "print(sys.path)\n",
    "from pyutils import *\n",
    "from pdutils import *\n",
    "from pdpltutils import *\n",
    "from gputils import *\n",
    "from iputils import *"
   ]
  },
  {
   "cell_type": "code",
   "execution_count": 3,
   "id": "2291a892",
   "metadata": {},
   "outputs": [],
   "source": [
    "DIGIIP=\"192.168.2.1\"\n",
    "DIGIPW=\"Cmu5@ty@l@60\"\n",
    "DIGI_TESTCMD=\"config network modem wwan1 sim_slot\""
   ]
  },
  {
   "cell_type": "code",
   "execution_count": 7,
   "id": "59d5587c",
   "metadata": {},
   "outputs": [
    {
     "name": "stdout",
     "output_type": "stream",
     "text": [
      "STDOUT\n",
      "2\n",
      "\n",
      "STDERR\n"
     ]
    },
    {
     "data": {
      "text/plain": [
       "{'stdout': ['2', ''], 'stderr': []}"
      ]
     },
     "execution_count": 7,
     "metadata": {},
     "output_type": "execute_result"
    }
   ],
   "source": [
    "basecmd = f\"sshpass -p {DIGIPW} ssh admin@{DIGIIP}\"\n",
    "cmd=f\"{basecmd} {DIGI_TESTCMD}\"\n",
    "\n",
    "def runDIGIcmd(icmd, output = True):\n",
    "    cmd=f\"{basecmd} {icmd}\"\n",
    "    return cmd_all(cmd, output=output)\n",
    "runDIGIcmd(DIGI_TESTCMD)\n"
   ]
  },
  {
   "cell_type": "code",
   "execution_count": 5,
   "id": "4c4b373e",
   "metadata": {},
   "outputs": [
    {
     "name": "stdout",
     "output_type": "stream",
     "text": [
      "sshpass -p Cmu5@ty@l@60 ssh admin@192.168.2.1 config network modem wwan1 sim_slot\n"
     ]
    }
   ],
   "source": [
    "print(cmd)"
   ]
  },
  {
   "cell_type": "code",
   "execution_count": 6,
   "id": "b0cebb5e",
   "metadata": {},
   "outputs": [
    {
     "name": "stdout",
     "output_type": "stream",
     "text": [
      "2\n"
     ]
    },
    {
     "data": {
      "text/plain": [
       "0"
      ]
     },
     "execution_count": 6,
     "metadata": {},
     "output_type": "execute_result"
    }
   ],
   "source": [
    "oscmd(cmd)"
   ]
  },
  {
   "cell_type": "code",
   "execution_count": 8,
   "id": "df6ca3ab",
   "metadata": {},
   "outputs": [
    {
     "data": {
      "text/plain": [
       "{'stdout': [''], 'stderr': []}"
      ]
     },
     "execution_count": 8,
     "metadata": {},
     "output_type": "execute_result"
    }
   ],
   "source": [
    "runDIGIcmd(DIGI_TESTCMD + \" 2\",output=False)"
   ]
  },
  {
   "cell_type": "code",
   "execution_count": 30,
   "id": "fb2e1e87",
   "metadata": {},
   "outputs": [
    {
     "name": "stdout",
     "output_type": "stream",
     "text": [
      "connecting_SIM:2_DBM:-39\n"
     ]
    }
   ],
   "source": [
    "def getModemStatus(output=True):\n",
    "    res = runDIGIcmd(\"show modem verbose\",output=output)\n",
    "    modemstat = None\n",
    "    stdoutclean = [line.strip() for line in res['stdout'] if line.startswith(\" Modem\") or line.startswith(\" wwan1\")]\n",
    "    if len(stdoutclean) < 2:\n",
    "#         print(\"Modem is not connected\")\n",
    "        modemstat = 'not_connected'\n",
    "    elif 'disabl' in stdoutclean[1]:\n",
    "#         print(\"Modem is disabled\")\n",
    "        modemstat = 'disabled'\n",
    "    elif 'found' in stdoutclean[1]:\n",
    "#         print(\"Modem is not found\")\n",
    "        modemstat = 'not_found'\n",
    "    elif 'enabling' in stdoutclean[1]:\n",
    "#         print(\"Modem is being enabled\")\n",
    "        modemstat = 'enabling'\n",
    "    else:\n",
    "        data = [fld for fld in stdoutclean[1].split(' ') if fld != '']\n",
    "        dbm = data[-2].replace(\"(\",\"\")\n",
    "        modemstat = f\"{data[3]}_SIM:{data[1]}_DBM:{dbm}\"\n",
    "        if output == True: print(data)\n",
    "    return modemstat,stdoutclean\n",
    "\n",
    "\n",
    "modemstat, output = getModemStatus(output=False)\n",
    "print(modemstat)"
   ]
  },
  {
   "cell_type": "code",
   "execution_count": 31,
   "id": "e586b4d2",
   "metadata": {},
   "outputs": [],
   "source": [
    "def toggleSIM():    \n",
    "    res = runDIGIcmd(DIGI_TESTCMD,output=False)\n",
    "    curSIM = res['stdout'][0]\n",
    "    newSIM = '1' if curSIM == '2' else '2'\n",
    "    print(curSIM, newSIM)\n",
    "    runDIGIcmd(DIGI_TESTCMD + \" \" + newSIM,output=False)"
   ]
  },
  {
   "cell_type": "code",
   "execution_count": 32,
   "id": "3a5fe14d",
   "metadata": {},
   "outputs": [
    {
     "name": "stdout",
     "output_type": "stream",
     "text": [
      "2 1\n"
     ]
    }
   ],
   "source": [
    "toggleSIM()"
   ]
  },
  {
   "cell_type": "code",
   "execution_count": 33,
   "id": "bd422b0f",
   "metadata": {},
   "outputs": [
    {
     "name": "stdout",
     "output_type": "stream",
     "text": [
      "0 disabled ['Modem  SIM        Status     APN  Signal Strength', 'wwan1  2 (ready)  disabling       Good (-82 dBm)']\n",
      "1 not_connected ['Modem not available.']\n",
      "2 disabled ['Modem  SIM        Status    APN  Signal Strength', 'wwan1  1 (ready)  disabled       Good (-81 dBm)']\n",
      "3 not_connected ['Modem not available.']\n",
      "4 not_connected ['Modem not available.']\n",
      "5 not_connected ['Modem not available.']\n",
      "6 not_connected ['Modem not available.']\n",
      "7 not_connected ['Modem not available.']\n",
      "8 not_connected ['Modem not available.']\n",
      "9 not_connected ['Modem not available.']\n",
      "10 not_connected ['Modem not available.']\n",
      "11 not_connected ['Modem not available.']\n",
      "12 not_connected ['Modem not available.']\n",
      "13 not_connected ['Modem not available.']\n",
      "14 not_found ['Modem  SIM            Status  APN  Signal Strength', 'wwan1  1 (Not found)  failed       Excellent (-62 dBm)']\n",
      "15 not_found ['Modem  SIM            Status  APN  Signal Strength', 'wwan1  1 (Not found)  failed       Excellent (-62 dBm)']\n",
      "16 not_connected ['Modem not available.']\n",
      "17 not_connected ['Modem not available.']\n",
      "18 not_connected ['Modem not available.']\n",
      "19 not_connected ['Modem not available.']\n",
      "20 not_connected ['Modem not available.']\n",
      "21 not_connected ['Modem not available.']\n",
      "22 not_connected ['Modem not available.']\n",
      "23 not_connected ['Modem not available.']\n",
      "24 not_connected ['Modem            SIM           Status  APN  Signal Strength']\n",
      "25 not_connected ['Modem not available.']\n",
      "26 not_connected ['Modem not available.']\n",
      "27 not_connected ['Modem not available.']\n",
      "28 not_connected ['Modem not available.']\n",
      "29 not_connected ['Modem not available.']\n",
      "30 not_connected ['Modem not available.']\n",
      "31 not_connected ['Modem not available.']\n",
      "32 not_connected ['Modem not available.']\n",
      "33 not_connected ['Modem not available.']\n",
      "34 disabled ['Modem  SIM        Status    APN  Signal Strength', 'wwan1  1 (ready)  disabled       Good (-80 dBm)']\n",
      "35 registered_SIM:1_DBM:-78 ['Modem  SIM        Status      APN  Signal Strength', 'wwan1  1 (ready)  registered       Good (-78 dBm)']\n"
     ]
    }
   ],
   "source": [
    "TIMEOUTCT=40\n",
    "TIMEOUTWT=5\n",
    "\n",
    "def waitForConnect():\n",
    "    for ii in range(0,TIMEOUTCT):\n",
    "        mstat, output = getModemStatus(output=False)\n",
    "        nonstatelst = ['not_connected','not_found','disabled','enabling','disabling']\n",
    "        if (mstat not in nonstatelst):\n",
    "            print(f\"{ii} {mstat} {output}\")\n",
    "            break\n",
    "        else:\n",
    "            print(f\"{ii} {mstat} {output}\")\n",
    "        sleep(TIMEOUTWT)\n",
    "\n",
    "waitForConnect()"
   ]
  },
  {
   "cell_type": "code",
   "execution_count": null,
   "id": "235f47ec",
   "metadata": {},
   "outputs": [],
   "source": [
    "_ = getModemStatus(output=False)"
   ]
  },
  {
   "cell_type": "code",
   "execution_count": null,
   "id": "4cda59af",
   "metadata": {},
   "outputs": [],
   "source": [
    "_ = getModemStatus(output=False)"
   ]
  },
  {
   "cell_type": "markdown",
   "id": "c0d81a30",
   "metadata": {},
   "source": [
    "## Remote Manager Web API"
   ]
  },
  {
   "cell_type": "code",
   "execution_count": null,
   "id": "3f1ea081",
   "metadata": {},
   "outputs": [],
   "source": [
    "#!python3\n",
    "# Python example using requests library \n",
    "# Use 'pip install requests' to install the requests library.           \n",
    "\n",
    "host=\"remotemanager.digi.com\"            \n",
    "api=\"https://%s/ws/v1/devices/inventory/00000000-00000000-0004F3FF-FF94F583/\" % host\n",
    "\n",
    "# user = input(\"Username for %s: \" % host)\n",
    "user=\"jblake1@andrew.cmu.edu\"\n",
    "# password = getpass.getpass(\"Password for user %s at %s:\" % (user, host))\n",
    "password=\"Cmu5@ty@l@60\"\n",
    "\n",
    "# Retaining a session when doing multiple requests can speed up your requests\n",
    "session = requests.Session()\n",
    "session.auth = (user, password)\n",
    "\n",
    "rsp = session.get(api)\n",
    "rsp.raise_for_status()\n",
    "print(\"Status code:\", rsp.status_code)\n",
    "# print(\"Result text:\", rsp.text)\n",
    "\n",
    "stts=json.loads(rsp.text)\n",
    "\n",
    "for xx in stts.keys():\n",
    "    print(f\"{xx} -> {stts[xx]}\")"
   ]
  },
  {
   "cell_type": "code",
   "execution_count": null,
   "id": "f1fc4f3d",
   "metadata": {},
   "outputs": [],
   "source": [
    "\n",
    "KEYLST = ['connection_status','provider','apn','carrier','last_connect','last_disconnect']\n",
    "def checkStatus(output=False,keylst=KEYLST):\n",
    "    session = requests.Session()\n",
    "    session.auth = (user, password)\n",
    "    rsp = session.get(api)\n",
    "    rsp.raise_for_status()\n",
    "#     print(rsp.text)\n",
    "    stts=json.loads(rsp.text)\n",
    "    if (output):\n",
    "        keyresult = \" \".join([stts[key] for key in keylst if key in stts ])\n",
    "        print(keyresult)\n",
    "    del rsp\n",
    "    del session\n",
    "    return stts\n",
    "\n",
    "TIMEOUTCT=20\n",
    "TIMEOUTWT=2\n",
    "\n",
    "def waitForConnect():\n",
    "    for ii in range(0,TIMEOUTCT):\n",
    "        stts = checkStatus()\n",
    "        connectstat=stts['connection_status']\n",
    "        carrier = stts['provider']\n",
    "        if (connectstat=='connected'):\n",
    "            print(f\"Connected to {carrier} last_disconnect={stts['last_disconnect']}\")\n",
    "#             break\n",
    "        print(f\"{ii}\")\n",
    "        sleep(TIMEOUTWT)\n",
    "                  \n",
    "# waitForConnect()"
   ]
  },
  {
   "cell_type": "code",
   "execution_count": null,
   "id": "642810aa",
   "metadata": {},
   "outputs": [],
   "source": [
    "checkStatus(output=True)"
   ]
  },
  {
   "cell_type": "markdown",
   "id": "99b2c4ae",
   "metadata": {},
   "source": [
    "## Local Web API"
   ]
  },
  {
   "cell_type": "code",
   "execution_count": null,
   "id": "6d0f8646",
   "metadata": {},
   "outputs": [],
   "source": [
    "#!python3\n",
    "# Python example using requests library \n",
    "# Use 'pip install requests' to install the requests library.           \n",
    "\n",
    "host=\"192.168.2.1\"            \n",
    "api=\"https://%s/cgi-bin/config.cgi/value/service/ssh\" % host\n",
    "print(api)\n",
    "# https://192.168.2.1/cgi-bin/config.cgi/value/service/ssh\n",
    "\n",
    "# user = input(\"Username for %s: \" % host)\n",
    "user=\"admin\"\n",
    "# password = getpass.getpass(\"Password for user %s at %s:\" % (user, host))\n",
    "password=\"Cmu5@ty@l@60\"\n",
    "\n",
    "# # Retaining a session when doing multiple requests can speed up your requests\n",
    "# session = requests.Session()\n",
    "# session.auth = (user, password)\n",
    "\n",
    "# rsp = session.get(api)\n",
    "# rsp.raise_for_status()\n",
    "# print(\"Status code:\", rsp.status_code)\n",
    "# # print(\"Result text:\", rsp.text)\n",
    "\n",
    "cmd=f\"curl -k -u {user}:{password} {api}\"\n",
    "print(cmd)\n",
    "response = cmd_all(cmd, output=True)\n",
    "\n",
    "# stts=json.loads(rsp.text)\n",
    "\n",
    "# for xx in stts.keys():\n",
    "#     print(f\"{xx} -> {stts[xx]}\")"
   ]
  },
  {
   "cell_type": "code",
   "execution_count": null,
   "id": "7dd757c2",
   "metadata": {},
   "outputs": [],
   "source": [
    "# config network modem wwan1 sim_slot\n",
    "api=\"https://%s/cgi-bin/config.cgi/value/network/interface/wwan1\" % host\n",
    "cmd=f\"curl -k -u {user}:{password} {api} -X GET\"\n",
    "print(cmd)\n",
    "response = cmd_all(cmd, output=True)"
   ]
  },
  {
   "cell_type": "code",
   "execution_count": null,
   "id": "bccc10ab",
   "metadata": {},
   "outputs": [],
   "source": [
    "cmd=\"curl -k -u admin:Cmu5@ty@l@60 https://192.168.2.1/cgi-bin/config.cgi/value/service/ssh\"\n",
    "cmd_all(cmd,output=True)"
   ]
  },
  {
   "cell_type": "code",
   "execution_count": null,
   "id": "63fab78f",
   "metadata": {},
   "outputs": [],
   "source": []
  }
 ],
 "metadata": {
  "kernelspec": {
   "display_name": "Python 3 (ipykernel)",
   "language": "python",
   "name": "python3"
  },
  "language_info": {
   "codemirror_mode": {
    "name": "ipython",
    "version": 3
   },
   "file_extension": ".py",
   "mimetype": "text/x-python",
   "name": "python",
   "nbconvert_exporter": "python",
   "pygments_lexer": "ipython3",
   "version": "3.8.10"
  }
 },
 "nbformat": 4,
 "nbformat_minor": 5
}
