{
 "cells": [
  {
   "cell_type": "code",
   "execution_count": null,
   "metadata": {
    "deletable": true,
    "editable": true
   },
   "outputs": [],
   "source": [
    "import os\n",
    "import sys\n",
    "print(sys.path)\n",
    "import subprocess\n",
    "import shutil\n",
    "import pandas as pd\n",
    "import numpy as np\n",
    "import calendar\n",
    "import traceback\n",
    "import json\n",
    "from pyutils import *\n",
    "from pdutils import *\n",
    "from pdpltutils import *\n",
    "from gputils import *\n",
    "from iputils import *\n",
    "import xmltodict\n",
    "import re"
   ]
  },
  {
   "cell_type": "markdown",
   "metadata": {
    "deletable": true,
    "editable": true
   },
   "source": [
    "## Initialization"
   ]
  },
  {
   "cell_type": "code",
   "execution_count": null,
   "metadata": {
    "deletable": true,
    "editable": true
   },
   "outputs": [],
   "source": [
    "if sys.platform == \"linux\":\n",
    "    IP2DIR=\"/home/jblake1/Downloads/Network_Measurements\"\n",
    "    DATADIR=\"/home/jblake1/Downloads/Network_Measurements\"\n",
    "    DATADIR2=\"/home/jblake1/LEL_Network_Project\"\n",
    "else:\n",
    "    IP2DIR=\"C:\\\\Users\\\\jimbl\\\\Downloads\\\\\"\n",
    "    DATADIR=\"C:\\\\Users\\\\jimbl\\\\Downloads\\\\\"\n",
    "    # DATADIR2=\"C:\\\\Users\\\\jimbl\\\\Box\\\\BoxDesktop\\\\Documents\\\\LEL\\\\Network_Measurements\\\\Network_Study\\\\ping-iperf-traceroute-2024-03-22-24\"\n",
    "    # DATADIR2=\"C:\\\\Users\\\\jimbl\\\\Box\\\\BoxDesktop\\\\Documents\\\\LEL\\\\Network_Measurements\\\\Network_Study\\\\LEL_Measures_03-22-2024_to_04_02_2024\"\n",
    "    # DATADIR2=\"C:\\\\Users\\\\jimbl\\\\Box\\\\BoxDesktop\\\\Documents\\\\LEL\\\\Network_Measurements\\\\Network_Study\\\\CBRS-5G-Ping-First-Look\"\n",
    "    DATADIR2=\"C:\\\\Users\\\\jimbl\\\\Box\\\\BoxDesktop\\\\Documents\\\\LEL\\\\Network_Measurements\\\\Network_Study\\\\cbrs5G_2024-04-19-20\"\n",
    "    ALLMEASDIR=\"C:\\\\Users\\\\jimbl\\\\Box\\\\BoxDesktop\\\\Documents\\\\LEL\\\\Network_Measurements\\\\Network_Study\\\\All_Measures\"\n",
    "    DATADIR3=\"C:\\\\Users\\\\jimbl\\\\Downloads\\\\LEL_Network_Project\\\\LEL_Network_Project\"\n",
    "\n",
    "DIRCHECKLIST=[IP2DIR,ALLMEASDIR,DATADIR2,DATADIR3]\n",
    "for DIR in DIRCHECKLIST:\n",
    "    print(f\"{DIR} exists\") if os.path.isdir(DIR) else print(f\"{DIR} does not exist\")\n",
    "# print(f\"{IP2DIR} exists\") if os.path.isdir(IP2DIR) else print(f\"{IP2DIR} does not exist\")\n",
    "# print(f\"{ALLMEASDIR} exists\") if os.path.isdir(ALLMEASDIR) else print(f\"{ALLMEASDIR} does not exist\")\n",
    "# print(f\"{DATADIR2} exists\") if os.path.isdir(DATADIR2) else print(f\"{DATADIR2} does not exist\")\n",
    "# print(f\"{DATADIR3} exists\") if os.path.isdir(DATADIR3) else print(f\"{DATADIR3} does not exist\")\n",
    "IP2LITE=\"IP2LOCATION-LITE-DB11.CSV\"\n",
    "\n",
    "\n",
    "''' US Boundaries '''\n",
    "northern=49.382808 # latitude\n",
    "southern=24.521208\n",
    "eastern=-66.945392 # longitude\n",
    "western=-124.736342\n",
    "pointdict = {\n",
    " 'northeast':[northern,eastern],\n",
    " 'northwest':[northern,western],\n",
    " 'southeast':[southern,eastern],\n",
    " 'southwest':[southern,western]\n",
    "}\n",
    "tdfb = pd.DataFrame.from_dict(pointdict,orient='index',columns=['latitude','longitude'])\n",
    "tdfb['geometry'] = pt2geom(tdfb,latcol='latitude',lngcol='longitude')\n",
    "usagb = df2gp(tdfb.copy())\n",
    "# To plot this map first:\n",
    "# ax= gp_plotPoints(usagb,mapon=True, alpha=0)"
   ]
  },
  {
   "cell_type": "code",
   "execution_count": null,
   "metadata": {
    "deletable": true,
    "editable": true
   },
   "outputs": [],
   "source": [
    "def histplot(dfin,title='Unknown Title',ax=None,filename='tmp.png', \n",
    "    figsize=(10,10), xlabel='',ylabel='',tabon=True, saveon=False,\n",
    "    bins=10, alpha=0.5, fontsize = 30, yticks = True,\n",
    "    tabfontsize = 30, tabsizex = 1,tabsizey=2,**kwargs):\n",
    "    font = {'size':fontsize}\n",
    "    matplotlib.rc('font',**font)\n",
    "    df = pd.DataFrame(dfin) # in case actually a series\n",
    "    ''' Parameters '''\n",
    "    if ax is None:\n",
    "        ax = plt.figure(figsize=figsize).add_subplot(111)\n",
    "    ''' Plot '''\n",
    "    ax = df.plot.hist(bins=bins,alpha=alpha,title=title,figsize=figsize,ax=ax,**kwargs)\n",
    "    ax.set_xlabel(xlabel)\n",
    "    if not yticks: ax.set_yticklabels([])\n",
    "    # print(tabon)\n",
    "    if tabon:\n",
    "        tabcolWidths = [0.2]\n",
    "        tab = table(ax,np.round(df.describe(),2),loc='upper right',colWidths=tabcolWidths)\n",
    "        tab.set_fontsize(tabfontsize)\n",
    "        tab.scale(tabsizex,tabsizey)\n",
    "    if saveon:\n",
    "        print(\"Saving %s\" % filename)\n",
    "        savePlot(ax,filename)\n",
    "    return ax\n",
    "def makeHist(fdf,title=\"UNKNOWN\", filename=\"tmp.png\"):\n",
    "    collst = fdf.columns.sort_values()\n",
    "    col0 = collst[0]\n",
    "    coln = collst[len(collst)-1]\n",
    "    # print(col0)\n",
    "    ax = histplot(fdf[col0],tabon=False, legend=False)\n",
    "    for col in collst[1:-1]:\n",
    "        ax = histplot(fdf[col],ax=ax,tabon=False, legend=False, label=\"PING\",by=None)\n",
    "    ax = histplot(fdf[coln],ax=ax,tabon=False, title=title,saveon=False)\n",
    "    ax.legend(fontsize=\"20\",loc=\"right\")\n",
    "    savePlot(ax,filename)\n",
    "# tabcolWidths = [0.1]\n",
    "# tab = table(ax,np.round(tdfy.describe(),2),loc='bottom')\n",
    "# # tab.set_fontsize(30)\n",
    "# # tab.scale(10,10)\n",
    "\n",
    "def plotMap(fgp,title=\"NONE\",saveon=False,filename=\"tmp.png\"):\n",
    "    tablecolumns = ['city_name','region_name','IP']\n",
    "    tabdf = fgp[tablecolumns]\n",
    "    plt.rcParams.update({'font.size': 12})\n",
    "    # plt.figure(figsize=(20,20))\n",
    "    fig, ax = plt.subplots()\n",
    "    plt.subplots_adjust(left=0.3, right=0.5, bottom=0.3, top=0.5)\n",
    "    # fig.subplots_adjust(hspace=30.0)\n",
    "    ax= gp_plotPoints(usagb,ax=ax, mapon=True, alpha=0)\n",
    "    ax = gp_plotPoints(fgp,ax=ax, mapon=True,c='red',title=title)\n",
    "    fgp = fgp[:-1] # Remove the last line -- belongs to next group\n",
    "    ax = gp_plotLines(fgp,mapon=True,geocol='LINEGEO',ax=ax,color='green')\n",
    "    table = ax.table(cellText=tabdf.values, colLabels=tabdf.columns,cellLoc='center', loc='bottom')\n",
    "    table.scale(1,1)\n",
    "    table.auto_set_font_size(False)\n",
    "    table.set_fontsize(10)\n",
    "    if saveon:\n",
    "        savePlot(ax,filename)\n",
    "\n",
    "def gp_plotLines(fgp,ax = None,geocol='geometry',ptype='Lines',mapon=False, title=None,\n",
    "                  figsize=(10,10),ctxprovider=ctxprovider,**kwargs):\n",
    "    ''' GeoPandas DataFrame with 'geometry' containing LineStrings '''\n",
    "    ''' Note: color parameter is 'color' '''\n",
    "    if geocol != 'geometry':\n",
    "        fgp['geometry'] = fgp[geocol]    \n",
    "    if mapon:\n",
    "        fgp = fgp.to_crs(epsg=3857)\n",
    "    if ax is None:\n",
    "        ax = plt.figure(figsize=figsize).add_subplot(111)\n",
    "    ax = fgp.plot(ax=ax,**kwargs)\n",
    "    gp_setAxesScales(ax,option=False)\n",
    "    if not title is None:\n",
    "        gp_setTitle(ax,title)\n",
    "    if mapon:\n",
    "        ctx.add_basemap(ax,  source=ctx.providers.OpenStreetMap.Mapnik)\n",
    "    return ax"
   ]
  },
  {
   "cell_type": "markdown",
   "metadata": {
    "deletable": true,
    "editable": true
   },
   "source": [
    "### Read Current IP2DIR Clean Directory"
   ]
  },
  {
   "cell_type": "code",
   "execution_count": null,
   "metadata": {
    "deletable": true,
    "editable": true
   },
   "outputs": [],
   "source": [
    "tdfx = readjoin(IP2DIR,IP2LITE.replace(\".CSV\",\"CLEAN.CSV\"))\n",
    "dumpdf(tdfx)\n",
    "idf = tdfx.copy()\n"
   ]
  },
  {
   "cell_type": "markdown",
   "metadata": {
    "deletable": true,
    "editable": true
   },
   "source": [
    "## Periodic Tests"
   ]
  },
  {
   "cell_type": "code",
   "execution_count": null,
   "metadata": {
    "deletable": true,
    "editable": true
   },
   "outputs": [],
   "source": [
    "''' Config '''\n",
    "# cnf = {\n",
    "#     \"52.70.44.155\":\"AWS\",\n",
    "#     \"128.2.208.222\":\"CMU\",\n",
    "#     \"eth1\":\"TMOB\",\n",
    "#     \"enx0016083656d3\":\"CBRS\",\n",
    "#     \"enx0050b623c78d\":\"TMOB\"\n",
    "# }\n",
    "cnf = {\n",
    "    \"54.91.23.217\":\"AWS\",\n",
    "    '52.70.44.155':\"AWS\",\n",
    "    \"18.205.107.100\":\"AWS\",\n",
    "    \"128.2.208.222\":\"CMU\",\n",
    "    \"128.2.211.195\":\"CMU\",\n",
    "    \"eth1\":\"TMOB\",\n",
    "    \"enx76b266ecb9b5\":\"TMOB-USB\",\n",
    "    \"enx0016083656d3\":\"CBRS\",\n",
    "    \"enx0050b623c78d\":\"CBRS-5G\"\n",
    "}\n",
    "# starttime = datetime.datetime(2024, 4, 18, 9)\n",
    "# endtime = datetime.datetime(2024, 4, 23)\n",
    "# starttime2 = datetime.datetime(2024, 4, 1, 1)\n",
    "# endtime2 = datetime.datetime(2024, 4, 9, 11)\n",
    "plt.rcParams.update({'font.size': 12})"
   ]
  },
  {
   "cell_type": "code",
   "execution_count": null,
   "metadata": {
    "deletable": true,
    "editable": true
   },
   "outputs": [],
   "source": [
    "# txtfiles = [os.path.join(DATADIR3,fn) for fn in os.listdir(DATADIR2) if fn.endswith(\".csv\")] +  \\\n",
    "#            [os.path.join(ALLMEASDIR,fn) for fn in os.listdir(ALLMEASDIR) if fn.endswith(\".csv\")]\n",
    "txtfiles = [os.path.join(DATADIR3,fn) for fn in os.listdir(DATADIR3) if fn.endswith(\".csv\")]\n",
    "iperffiles = [fn for fn in txtfiles if \"iperf-\" in fn]\n",
    "pingfiles =  [fn for fn in txtfiles if \"ping-\" in fn ]\n",
    "trrtfiles =  [fn for fn in txtfiles if \"traceroute-\" in fn ]\n",
    "print(f\"iperfiles={len(iperffiles)} pingfiles={len(pingfiles)} trrtfiles={len(trrtfiles)}\")"
   ]
  },
  {
   "cell_type": "markdown",
   "metadata": {
    "deletable": true,
    "editable": true
   },
   "source": [
    "### Periodic Pings"
   ]
  },
  {
   "cell_type": "code",
   "execution_count": null,
   "metadata": {},
   "outputs": [],
   "source": [
    "''' Get the old data '''\n",
    "if os.path.isfile(\"tmp.csv\"):\n",
    "    tdfy = to_ts(readjoin(\".\",\"tmp.csv\"),fmt=\"%Y-%m-%d %H:%M:%S.%f\")\n",
    "    tdfa = tdfy.copy()\n",
    "    # dumpdf(tdfy)\n",
    "lastts = tdfa.TIMESTAMP.sort_values().iloc[-1]\n",
    "print(lastts)"
   ]
  },
  {
   "cell_type": "code",
   "execution_count": null,
   "metadata": {},
   "outputs": [],
   "source": [
    "''' Get the timestamp from filename '''\n",
    "restr = \"2024-[0,1][1-9]-[0-3][0-9]-[0-2][0-9]-[0-5][0-9]-[0-5][0-9]-\\d{6}\"\n",
    "tdfz = pd.DataFrame(pingfiles,columns = [\"FFN\"])\n",
    "tdfz['TIMESTAMP'] = tdfz.FFN.map(lambda fn: datetime.datetime.strptime(re.findall(restr,fn)[0],\"%Y-%m-%d-%H-%M-%S-%f\"))\n",
    "tdfz = tdfz[tdfz.TIMESTAMP >= lastts]\n",
    "newpingfiles = list(tdfz.FFN)\n",
    "dumpdf(tdfz)"
   ]
  },
  {
   "cell_type": "code",
   "execution_count": null,
   "metadata": {
    "deletable": true,
    "editable": true
   },
   "outputs": [],
   "source": [
    "# def readPingFile(fn):\n",
    "#     fdf = to_ts(readjoin(\"\",fn),format = '%Y-%m-%d %H:%M:%S.%f')\n",
    "#     fdf['SDEST'] = fdf.DEST.map(lambda xx: cnf[xx])\n",
    "#     fdf['SACCESS'] = fdf.IFC.map(lambda xx: cnf[xx])\n",
    "#     # dumpdf(fdf)\n",
    "#     return fdf.iloc[1:]\n",
    "\n",
    "# # print(pingfiles)\n",
    "# tdfx = readPingFile(pingfiles[1])\n",
    "# pingfiles.sort()"
   ]
  },
  {
   "cell_type": "code",
   "execution_count": null,
   "metadata": {},
   "outputs": [],
   "source": [
    "# Alternate method of reading in files\n",
    "filecontent = []\n",
    "print(f\"Start reading {len(newpingfiles)} files at {humandatenow()} \")\n",
    "\n",
    "for count,filename in enumerate(newpingfiles[:]):\n",
    "    with open(filename, \"r\") as infile:\n",
    "        if (count % 10000 == 0): print(f\"Read {count} files at {humandatenow()}\")\n",
    "        filecontent = filecontent + infile.readlines()\n",
    "print(f\"Done reading files at {humandatenow()} \")\n",
    "\n",
    "filesplit =  [line.replace(\"\\n\",\"\").split(\",\") for line in filecontent]\n",
    "tdfx = pd.DataFrame(filesplit, columns = [\"TIME\",\"TIMESTAMP\",\"HDATE\",\"TEST\",\"DEST\",\"IFC\",\"PINGINTERVAL\"])\n",
    "tdfx = to_ts(tdfx,format = '%Y-%m-%d %H:%M:%S.%f')\n",
    "tdfx = tdfx[tdfx.TIME != \"TIME\"] # Get rid of header rows\n",
    "tdfx['SDEST'] = tdfx.DEST.map(lambda xx: cnf[xx])\n",
    "tdfx['SACCESS'] = tdfx.IFC.map(lambda xx: cnf[xx])\n",
    "dumpdf(tdfx,head = 20)"
   ]
  },
  {
   "cell_type": "code",
   "execution_count": null,
   "metadata": {},
   "outputs": [],
   "source": [
    "tdfy = pd.concat([tdfa,tdfx])\n",
    "dumpdf(tdfy)\n",
    "writejoin(tdfy.set_index(\"TIMESTAMP\"),\".\",\"tmp.csv\")"
   ]
  },
  {
   "cell_type": "code",
   "execution_count": null,
   "metadata": {
    "deletable": true,
    "editable": true
   },
   "outputs": [],
   "source": [
    "# tdfy = pd.DataFrame()\n",
    "# print(f\"Start reading files at {humandatenow()} \")\n",
    "# for fn in pingfiles:\n",
    "#     tdfx = readPingFile(fn)\n",
    "#     tdfy = pd.concat([tdfy,tdfx])\n",
    "# print(f\"Done reading files at {humandatenow()} \")\n",
    "# tdfa = tdfy.copy()\n",
    "# writejoin(tdfa.set_index(\"TIMESTAMP\"),\".\",\"tmp.csv\")"
   ]
  },
  {
   "cell_type": "code",
   "execution_count": null,
   "metadata": {},
   "outputs": [],
   "source": [
    "''' Add date/time oriented columns '''\n",
    "tdfy = to_ts(readjoin(\".\",\"tmp.csv\"),fmt=\"%Y-%m-%d %H:%M:%S.%f\")\n",
    "dowdict = {0:'Mo',1:'Tu',2:'We',3:'Th',4:'Fr',5:'Sa',6:'Su'}\n",
    "tdfy['DOW'] = tdfy.TIMESTAMP.dt.weekday\n",
    "tdfy['SDOW'] = tdfy.DOW.map(lambda dow: dowdict[dow])\n",
    "tdfy['DAYFLOOR'] = tdfy['TIMESTAMP'].dt.floor('d')\n",
    "tdfy['DAYCEIL'] = tdfy['TIMESTAMP'].dt.ceil('d')\n",
    "tdfy['DAYSTR'] = tdfy.TIMESTAMP.dt.strftime('%Y-%m-%d')\n",
    "tdfa = tdfy.copy()\n",
    "dumpdf(tdfy)"
   ]
  },
  {
   "cell_type": "code",
   "execution_count": null,
   "metadata": {},
   "outputs": [],
   "source": [
    "# starttime = datetime.datetime(2024, 8, 7, 23, 0)\n",
    "# endtime = datetime.datetime(2024, 8, 8, 2, 0)\n",
    "# tdfy = tdfa[((tdfa.TIMESTAMP > starttime) & (tdfa.TIMESTAMP < endtime))].sort_values('TIMESTAMP').copy()\n",
    "# starttime2 = datetime.datetime(2024, 3, 24, 0)\n",
    "# endtime2 = datetime.datetime(2024, 4, 3, 11)\n",
    "# def checkSACCESS(xx):\n",
    "#     if xx.TIMESTAMP <= starttime and xx.IFC == \"enx0050b623c78d\":\n",
    "#         xx.SACCESS = 'TMOB'\n",
    "#     return xx\n",
    "# # tdfy = tdfa[((tdfa.TIMESTAMP > starttime) & (tdfa.TIMESTAMP < endtime)) |\\\n",
    "# #             ((tdfa.TIMESTAMP > starttime2) & (tdfa.TIMESTAMP < endtime2))].sort_values('TIMESTAMP').copy()\n",
    "\n",
    "# tdfy = tdfy.apply(checkSACCESS, axis=1)\n",
    "# dumpdf(tdfy[tdfy.IFC ==  \"enx0050b623c78d\"].sort_values('TIMESTAMP'))\n",
    "# tdfy = tdfy[((tdfy.SACCESS == \"CBRS-5G\") | (tdfy.SACCESS == \"TMOB\")) & (tdfy.SDEST == \"AWS\")]\n",
    "# # title = f\"PING TEST\\n{tdfy.TIMESTAMP.iloc[0].floor('1H')}\\nto {tdfy.TIMESTAMP.iloc[-1].ceil('1H')}\""
   ]
  },
  {
   "cell_type": "code",
   "execution_count": null,
   "metadata": {},
   "outputs": [],
   "source": [
    "''' Make a temporary df for the days included in the data '''\n",
    "tdfb = tdfy[['DAYFLOOR','DAYCEIL','DAYSTR','SDOW']].drop_duplicates().copy()\n",
    "dumpdf(tdfb)"
   ]
  },
  {
   "cell_type": "code",
   "execution_count": null,
   "metadata": {},
   "outputs": [],
   "source": [
    "''' Trim impossibly low pingtimes '''\n",
    "tdfy = tdfy[tdfy.TIME > 10]\n",
    "dumpdf(tdfy)"
   ]
  },
  {
   "cell_type": "code",
   "execution_count": null,
   "metadata": {
    "deletable": true,
    "editable": true
   },
   "outputs": [],
   "source": [
    "''' Stats Table '''\n",
    "def makeTable(fdf,title=\"UNKNOWN\",filename=\"tmp.png\"):\n",
    "    # print(filename)\n",
    "    sdestlst = list(fdf.SDEST.drop_duplicates())\n",
    "    sacclst = list(fdf.SACCESS.drop_duplicates())\n",
    "    print(sdestlst,sacclst)\n",
    "    describe = pd.DataFrame()\n",
    "    for SDEST in sdestlst:\n",
    "        for SACCESS in sacclst:           \n",
    "            fdf1 = fdf[(fdf.SDEST == SDEST) & (fdf.SACCESS == SACCESS)]\n",
    "            fser = np.round(fdf1.TIME.describe(),2)\n",
    "            fser.name = f\"via {SACCESS}\\nto {SDEST}\"\n",
    "            # dumpdf(fser)\n",
    "            describe = pd.concat([describe,fser],axis=1)\n",
    "    describe = describe.reset_index(names=['METRIC'])\n",
    "    fig, ax = plt.subplots()\n",
    "    # hide axes\n",
    "    fig.patch.set_visible(False)\n",
    "    ax.axis('off')\n",
    "    ax.axis('tight')\n",
    "    table = ax.table(cellText=describe.values, colLabels=describe.columns, loc='center')\n",
    "    cellDict = table.get_celld() # Set header size\n",
    "    tablewidth = len(sdestlst) * len(sacclst) + 1\n",
    "    for ii in range(0,tablewidth):\n",
    "        cellDict[(0,ii)].set_height(.1)\n",
    "    table.scale(1,2)\n",
    "    table.auto_set_font_size(False)\n",
    "    table.set_fontsize(12)\n",
    "    ax.set_title(title,fontsize=14)\n",
    "    fig.tight_layout()\n",
    "    plt.show()\n",
    "    savePlot(ax,filename)\n",
    "title = f\"PING TEST\\n{tdfy.TIMESTAMP.iloc[0].floor('1H')}\\nto {tdfy.TIMESTAMP.iloc[-1].ceil('1H')}\"\n",
    "tdfz = tdfy.copy()[['TIME','TIMESTAMP','SDEST','SACCESS']]\n",
    "makeTable(tdfz,title=title + \"\\nSTATISTICS\",filename=\"PING TEST STATS.png\")"
   ]
  },
  {
   "cell_type": "code",
   "execution_count": null,
   "metadata": {
    "deletable": true,
    "editable": true,
    "scrolled": true
   },
   "outputs": [],
   "source": [
    "''' Line Plot of Raw Pings and Rolling Average Ping Time '''\n",
    "title = f\"PING TEST\\n{tdfy.TIMESTAMP.iloc[0].floor('1H')}\\nto {tdfy.TIMESTAMP.iloc[-1].ceil('1H')}\"\n",
    "colname='ROLLINGTIME'\n",
    "# WINDOW=int(np.round(60/7*4,0))\n",
    "WINDOW=1000\n",
    "print(WINDOW,tdfy.TIME.min(),tdfy.TIME.max())\n",
    "def makeLine(fdf,col,title=\"UNKNOWN\", filename=\"tmp.png\"):\n",
    "    sdestlst = list(fdf.SDEST.drop_duplicates())\n",
    "    sacclst = list(fdf.SACCESS.drop_duplicates())\n",
    "    pltping = 35\n",
    "    print(pltping)\n",
    "    plt.rcParams.update({'font.size': 12})\n",
    "    fig, ax = plt.subplots()\n",
    "    legendlabellst = []\n",
    "    for SDEST in sdestlst:\n",
    "        for SACCESS in sacclst:\n",
    "            fdf1 = fdf[(tdfy.SDEST == SDEST) & (tdfy.SACCESS == SACCESS)]\n",
    "            if col == 'ROLLINGTIME':\n",
    "                fdf1[colname] = fdf1['TIME'].rolling(WINDOW).mean()\n",
    "            ax = ts_lineplot(fdf1,[col], ax=ax, title=title,legend=True)\n",
    "            legendlabellst.append(f\"Via {SACCESS} to {SDEST}\")\n",
    "    color = \"red\"\n",
    "    tdfb.apply(lambda row: ax.axvline(row.DAYFLOOR,color=color, linestyle='dashed',linewidth=0.5),axis=1)\n",
    "    tdfb.apply(lambda row: ax.text(row.DAYFLOOR + pd.Timedelta(hours=3),pltping, row.SDOW, style ='italic', fontsize = 8, color = color),axis=1)\n",
    "    ax.legend(labels=legendlabellst)\n",
    "    ax.set_title(title,fontsize=12)\n",
    "    ax.set_ylabel(\"Ping Time (ms)\")\n",
    "    savePlot(ax,filename)\n",
    "    return ax\n",
    "tdfz = tdfy.copy()\n",
    "\n",
    "# makeLine(tdfz,\"TIME\",filename=\"PING LINE TEST.png\",title=title + \"\\nLINE\")\n",
    "makeLine(tdfz,\"ROLLINGTIME\",filename=\"ROLLING PING LINE TEST.png\",title=title + f\"\\nROLLING LINE (WINDOW={WINDOW})\")"
   ]
  },
  {
   "cell_type": "code",
   "execution_count": null,
   "metadata": {},
   "outputs": [],
   "source": [
    "''' Rolling Ping Time by Day '''\n",
    "WINDOW=1000\n",
    "def makeLine(fdf,col,title=\"UNKNOWN\", filename=\"tmp.png\"):\n",
    "    sdestlst = list(fdf.SDEST.drop_duplicates())\n",
    "    sacclst = list(fdf.SACCESS.drop_duplicates())\n",
    "    pltping = 35\n",
    "    plt.rcParams.update({'font.size': 12})\n",
    "    fig, ax = plt.subplots()\n",
    "    legendlabellst = []\n",
    "    for SDEST in sdestlst:\n",
    "        for SACCESS in sacclst:\n",
    "            fdf1 = fdf[(tdfy.SDEST == SDEST) & (tdfy.SACCESS == SACCESS)]\n",
    "            fdf1[col] = fdf1['TIME'].rolling(WINDOW).mean()\n",
    "            ax = ts_lineplot(fdf1,[col], ax=ax, title=title,legend=True)\n",
    "            legendlabellst.append(f\"Via {SACCESS} to {SDEST}\")\n",
    "    ax.legend(labels=legendlabellst)\n",
    "    ax.set_title(title,fontsize=12)\n",
    "    ax.set_ylabel(\"Ping Time (ms)\")\n",
    "    savePlot(ax,filename)\n",
    "    return ax\n",
    "tdfz = tdfy.copy()\n",
    "def plotDay(row):\n",
    "    print(row.DAYFLOOR, row.DAYCEIL)\n",
    "    fdf = tdfz[(tdfz.TIMESTAMP >= row.DAYFLOOR) &  (tdfz.TIMESTAMP < row.DAYCEIL)]\n",
    "    print(f\"fdf.shape={fdf.shape}\")\n",
    "    # title = f\"PING TEST\\n{fdf.TIMESTAMP.iloc[0].floor('1H')}\\nto {fdf.TIMESTAMP.iloc[-1].ceil('1H')} \\nROLLING LINE (WINDOW={WINDOW}\"\n",
    "    title = f\"PING TEST\\n{row.DAYSTR} DOW={row.SDOW}\\nROLLING LINE (WINDOW={WINDOW})\"\n",
    "    makeLine(fdf,\"ROLLINGTIME\",filename=f\"ROLLING PING LINE TEST {row.DAYSTR}.png\",title=title)\n",
    "\n",
    "tdfb[:].apply(plotDay,axis=1)\n"
   ]
  },
  {
   "cell_type": "code",
   "execution_count": null,
   "metadata": {
    "deletable": true,
    "editable": true
   },
   "outputs": [],
   "source": [
    "def makeHist(fdf,col,title=\"UNKNOWN\", filename=\"tmp.png\",filterdest=None,filteraccess = None):\n",
    "    sdestlst = list(fdf.SDEST.drop_duplicates())\n",
    "    sacclst = list(fdf.SACCESS.drop_duplicates())\n",
    "    # ax = None\n",
    "    plt.rcParams.update({'font.size': 12})\n",
    "    fig, ax = plt.subplots()\n",
    "    legendlabellst = []\n",
    "    for SDEST in sdestlst:\n",
    "        if filterdest is not None and filterdest != SDEST: continue\n",
    "        for SACCESS in sacclst:\n",
    "            if filteraccess is not None and filteraccess != SACCESS: continue\n",
    "            fdf1 = fdf[(tdfy.SDEST == SDEST) & (tdfy.SACCESS == SACCESS)]\n",
    "            ax = histplot(fdf1.TIME, ax=ax, title=title, tabon=False, legend=True)\n",
    "            legendlabellst.append(f\"Via {SACCESS} to {SDEST}\")\n",
    "    ax.legend(labels = legendlabellst,fontsize=12)\n",
    "    ax.set_title(title,fontsize = 12)\n",
    "    ax.set_xlabel(\"Ping Time (ms)\")\n",
    "    savePlot(ax,filename)\n",
    "    \n",
    "tdfz = tdfy.copy()\n",
    "makeHist(tdfz,\"TIME\",filename=\"PING HIST TEST.png\",title=title + \"\\nHISTOGRAM\")\n",
    "# makeHist(tdfz,\"TIME\",filename=\"PING HIST TEST.png\",title=title + \"\\nHISTOGRAM\",filterdest = \"AWS\",filteraccess=\"TMOB\")"
   ]
  },
  {
   "cell_type": "code",
   "execution_count": null,
   "metadata": {},
   "outputs": [],
   "source": [
    "# title = f\"PING TEST\\n{tdfy.TIMESTAMP.iloc[0].floor('1H')}\\nto {tdfy.TIMESTAMP.iloc[-1].ceil('1H')}\"\n",
    "# tdfz = tdfy.copy()[['TIME','TIMESTAMP','SDEST','SACCESS']]\n",
    "\n",
    "\n",
    "# tdfz = tdfz[(tdfz.SACCESS == \"CBRS-5G\") | (tdfz.SACCESS == \"TMOB\")]\n",
    "# makeTable(tdfz,title=title + \"\\nSTATISTICS\",filename=\"PING TEST STATS.png\")"
   ]
  },
  {
   "cell_type": "code",
   "execution_count": null,
   "metadata": {},
   "outputs": [],
   "source": [
    "''' Calculate Pings per Hour '''\n",
    "tdfz = tdfy.copy()\n",
    "tdfz['HOUR'] = tdfy.TIMESTAMP.dt.hour\n",
    "tdfz['DOW'] = tdfy.TIMESTAMP.dt.weekday\n",
    "tdfz['MONTH'] = tdfy.TIMESTAMP.dt.month\n",
    "tdfz['DAY'] = tdfy.TIMESTAMP.dt.day\n",
    "tdfz['TSFLOOR'] = tdfz['TIMESTAMP'].dt.floor('h')\n",
    "\n",
    "tdfc =tdfz.groupby(['TSFLOOR','DEST'])['TIME'].count().reset_index().copy().set_index(['TSFLOOR','DEST'])\n",
    "tdfc.columns = ['HOURLYCOUNT']\n",
    "tdfz = tdfz.set_index(['TSFLOOR','DEST'])\n",
    "\n",
    "tdfz = tdfz.join(tdfc).reset_index()\n",
    "del tdfc\n",
    "dumpdf(tdfz)"
   ]
  },
  {
   "cell_type": "code",
   "execution_count": null,
   "metadata": {},
   "outputs": [],
   "source": [
    "def makeLine(fdf,col,title=\"UNKNOWN\", filename=\"tmp.png\"):\n",
    "    sdestlst = list(fdf.SDEST.drop_duplicates())\n",
    "    sacclst = list(fdf.SACCESS.drop_duplicates())\n",
    "    print(sdestlst,sacclst)\n",
    "    pltping = 400\n",
    "    plt.rcParams.update({'font.size': 12})\n",
    "    fig, ax = plt.subplots()\n",
    "    legendlabellst = []\n",
    "    for SDEST in sdestlst:\n",
    "        for SACCESS in sacclst:\n",
    "            fdf1 = fdf[(fdf.SDEST == SDEST) & (fdf.SACCESS == SACCESS)]\n",
    "            ax = ts_lineplot(fdf1,[col], ax=ax, title=title,legend=True)\n",
    "            legendlabellst.append(f\"Via {SACCESS} to {SDEST}\")\n",
    "    tdfb.apply(lambda row: ax.text(row.DAYFLOOR + pd.Timedelta(hours=4),pltping, row.SDOW, style ='italic', fontsize = 10, color =\"green\"),axis=1)\n",
    "    tdfb.apply(lambda row: ax.text(row.DAYFLOOR - pd.Timedelta(hours=3), pltping, \"|\", fontsize = 20, color =\"green\"),axis=1)\n",
    "    ax.legend(labels=legendlabellst)\n",
    "    ax.set_title(title,fontsize=12)\n",
    "    ax.set_ylabel(\"Ping Count (#)\")\n",
    "    savePlot(ax,filename)\n",
    "# dumpdf(tdfz)\n",
    "title = f\"PINGS PER HOUR\\n{tdfz.TIMESTAMP.iloc[0].floor('1H')}\\nto {tdfz.TIMESTAMP.iloc[-1].ceil('1H')}\"\n",
    "makeLine(tdfz,\"HOURLYCOUNT\",filename=\"PINGCOUNT LINE TEST.png\",title=title + \"\\nLINE\")"
   ]
  },
  {
   "cell_type": "markdown",
   "metadata": {
    "deletable": true,
    "editable": true
   },
   "source": [
    "### Periodic Iperf"
   ]
  },
  {
   "cell_type": "markdown",
   "metadata": {},
   "source": [
    "#### Read in raw data"
   ]
  },
  {
   "cell_type": "code",
   "execution_count": null,
   "metadata": {
    "deletable": true,
    "editable": true
   },
   "outputs": [],
   "source": [
    "def readIPerfFile(fn):\n",
    "    fdf = to_ts(readjoin(\"\",fn),format = '%Y-%m-%d %H:%M:%S.%f')\n",
    "    fdf['SDEST'] = fdf.DEST.map(lambda xx: cnf[xx])\n",
    "    fdf['SACCESS'] = fdf.IFC.map(lambda xx: cnf[xx])\n",
    "    # dumpdf(fdf)\n",
    "    return fdf\n",
    "\n",
    "# print(pingfiles)\n",
    "tdfx = readIPerfFile(iperffiles[1])\n",
    "dumpdf(tdfx)"
   ]
  },
  {
   "cell_type": "code",
   "execution_count": null,
   "metadata": {
    "deletable": true,
    "editable": true
   },
   "outputs": [],
   "source": [
    "tdfy = pd.DataFrame()\n",
    "for fn in iperffiles:\n",
    "    tdfx = readIPerfFile(fn)\n",
    "    tdfy = pd.concat([tdfy,tdfx])"
   ]
  },
  {
   "cell_type": "code",
   "execution_count": null,
   "metadata": {
    "deletable": true,
    "editable": true
   },
   "outputs": [],
   "source": [
    "tdfy = tdfy[tdfy.TIMESTAMP > starttime].sort_values('TIMESTAMP')\n",
    "\n",
    "title = f\"IPERF TEST\\n{tdfy.TIMESTAMP.iloc[0].floor('1H')}\\nto {tdfy.TIMESTAMP.iloc[-1].ceil('1H')}\""
   ]
  },
  {
   "cell_type": "code",
   "execution_count": null,
   "metadata": {
    "deletable": true,
    "editable": true
   },
   "outputs": [],
   "source": [
    "colname='ROLLING THROUGHPUT'\n",
    "DIRECTION='UP'\n",
    "# dumpdf(tdfy)\n",
    "WINDOW=int(np.round(60/7*4,0))\n",
    "WINDOW=100\n",
    "print(WINDOW,tdfy.THROUGHPUT.min(),tdfy.THROUGHPUT.max())\n",
    "tdfz = tdfy.copy()[['THROUGHPUT','TIMESTAMP','SDEST','SACCESS','DIRECTION','HDATE']]\n",
    "if colname != \"THROUGHPUT\":\n",
    "    tdfz[colname] = tdfz['THROUGHPUT'].rolling(WINDOW).mean()\n",
    "tdfz['DIRECTION'] = tdfz.DIRECTION.map(lambda xx: \"UP\" if xx == np.nan else xx)\n",
    "tdfz = tdfz[tdfz.DIRECTION == DIRECTION]\n",
    "\n",
    "# dumpdf(tdfy)\n",
    "def makeLine(fdf,col,title=\"UNKNOWN\", filename=\"tmp.png\"):\n",
    "    sdestlst = list(fdf.SDEST.drop_duplicates())\n",
    "    sacclst = list(fdf.SACCESS.drop_duplicates())\n",
    "    plt.rcParams.update({'font.size': 12})\n",
    "    fig, ax = plt.subplots()\n",
    "    legendlabellst = []\n",
    "    for SDEST in sdestlst:\n",
    "        for SACCESS in sacclst:\n",
    "            fdf1 = fdf[(fdf.SDEST == SDEST) & (fdf.SACCESS == SACCESS)]\n",
    "            ax = ts_lineplot(fdf1,[col], ax=ax, title=title,legend=True)\n",
    "            legendlabellst.append(f\"{SDEST} {SACCESS}\")\n",
    "    ax.legend(labels=legendlabellst,fontsize=12)\n",
    "\n",
    "    savePlot(ax,filename)\n",
    "title = f\"IPERF TEST {colname} {DIRECTION} {tdfz.HDATE.min()}\\nto {tdfz.HDATE.max()} \"\n",
    "makeLine(tdfz,colname,filename=f\"IPERF {DIRECTION} TEST LINE.png\",title=title + \"\\nLINE\")\n",
    "\n",
    "def makeHist(fdf,col,title=\"UNKNOWN\", filename=\"tmp.png\"):\n",
    "    sdestlst = list(fdf.SDEST.drop_duplicates())\n",
    "    sacclst = list(fdf.SACCESS.drop_duplicates())\n",
    "    plt.rcParams.update({'font.size': 12})\n",
    "    fig, ax = plt.subplots()\n",
    "    legendlabellst = []\n",
    "    for SDEST in sdestlst:\n",
    "        for SACCESS in sacclst:\n",
    "            fdf1 = fdf[(fdf.SDEST == SDEST) & (fdf.SACCESS == SACCESS)]\n",
    "            ax = histplot(fdf1[col], ax=ax, title=title, tabon=False, legend=True)\n",
    "            legendlabellst.append(f\"{SDEST} {SACCESS}\")\n",
    "    ax.legend(labels = legendlabellst,fontsize=12)\n",
    "    ax.set_title(title,fontsize=12)\n",
    "    savePlot(ax,filename)\n",
    "\n",
    "title = f\"IPERF TEST THROUGHPUT {DIRECTION} {tdfz.HDATE.min()}\\nto {tdfz.HDATE.max()} \"\n",
    "makeHist(tdfz,\"THROUGHPUT\",filename=f\"IPERF {DIRECTION} TEST HIST.png\",title=title + \"\\nHISTOGRAM\")\n",
    "\n",
    "def makeTable(fdf,col,title=\"UNKNOWN\",filename=\"tmp.png\"):\n",
    "    print(filename)\n",
    "    sdestlst = list(fdf.SDEST.drop_duplicates())\n",
    "    sacclst = list(fdf.SACCESS.drop_duplicates())\n",
    "    describe = pd.DataFrame()\n",
    "    for SDEST in sdestlst:\n",
    "        for SACCESS in sacclst:\n",
    "            fdf1 = fdf[(fdf.SDEST == SDEST) & (fdf.SACCESS == SACCESS)]\n",
    "            fser = np.round(fdf1.THROUGHPUT.describe(),2)\n",
    "            fser.name = f\"{SDEST} {SACCESS}\"\n",
    "            dumpdf(fser)\n",
    "            describe = pd.concat([describe,fser],axis=1)\n",
    "    describe = describe.reset_index(names=['METRIC'])\n",
    "    plt.rcParams.update({'font.size': 12})\n",
    "    fig, ax = plt.subplots()\n",
    "    # hide axes\n",
    "    fig.patch.set_visible(False)\n",
    "    ax.axis('off')\n",
    "    ax.axis('tight')\n",
    "    table = ax.table(cellText=describe.values, colLabels=describe.columns, loc='center')\n",
    "    table.scale(1,2)\n",
    "    table.auto_set_font_size(False)\n",
    "    table.set_fontsize(12)\n",
    "    ax.set_title(title + \" STATISTICS\",fontsize=12)\n",
    "    fig.tight_layout()\n",
    "    plt.show()\n",
    "    savePlot(ax,filename)\n",
    "    \n",
    "title = f\"IPERF TEST THROUGHPUT {DIRECTION} {tdfz.HDATE.min()}\\nto {tdfz.HDATE.max()} \"\n",
    "makeTable(tdfz,\"THROUGHPUT\",title=title + \"\\nSTATISTICS\" ,filename=f\"IPERF {DIRECTION} TEST STATS.png\")"
   ]
  },
  {
   "cell_type": "markdown",
   "metadata": {
    "deletable": true,
    "editable": true
   },
   "source": [
    "### Periodic Traceroute"
   ]
  },
  {
   "cell_type": "markdown",
   "metadata": {},
   "source": [
    "#### Read Raw Data"
   ]
  },
  {
   "cell_type": "code",
   "execution_count": null,
   "metadata": {
    "deletable": true,
    "editable": true
   },
   "outputs": [],
   "source": [
    "def readTraceRouteFile(fn):\n",
    "    fdf = to_ts(readjoin(\"\",fn),format = '%Y-%m-%d %H:%M:%S.%f')\n",
    "    fdf['FULLCOUNT'] = fdf.shape[0]\n",
    "    # dumpdf(fdf)\n",
    "    return fdf\n",
    "\n",
    "tdfx = readTraceRouteFile(trrtfiles[0])"
   ]
  },
  {
   "cell_type": "code",
   "execution_count": null,
   "metadata": {
    "deletable": true,
    "editable": true
   },
   "outputs": [],
   "source": [
    "tdfy = pd.DataFrame()\n",
    "for fn in trrtfiles:\n",
    "    tdfx = readTraceRouteFile(fn)\n",
    "    tdfy = pd.concat([tdfy,tdfx])\n",
    "tdfy['SDEST'] = tdfy.DEST.map(lambda xx: cnf[xx])\n",
    "tdfy['SACCESS'] = tdfy.IFC.map(lambda xx: cnf[xx])\n",
    "tdfy['NIP'] = tdfy.IP.map(ipadd2ipno)\n",
    "dumpdf(tdfy)\n"
   ]
  },
  {
   "cell_type": "code",
   "execution_count": null,
   "metadata": {
    "deletable": true,
    "editable": true
   },
   "outputs": [],
   "source": [
    "tdfy = tdfy[tdfy.TIMESTAMP > starttime].sort_values('TIMESTAMP')\n",
    "title = f\"TRACEROUTE TEST\\n{tdfy.TIMESTAMP.iloc[0].floor('1H')}\\nto {tdfy.TIMESTAMP.iloc[-1].ceil('1H')}\"\n",
    "print(title)\n",
    "dumpdf(tdfy)\n"
   ]
  },
  {
   "cell_type": "code",
   "execution_count": null,
   "metadata": {
    "deletable": true,
    "editable": true
   },
   "outputs": [],
   "source": [
    "retcols = ['country_code','region_name','city_name','latitude','longitude']\n",
    "nullser =  pd.Series([None for col in retcols],index=retcols)\n",
    "nulllst = nullser.to_list()\n",
    "# print(nullser)\n",
    "def fetchIPdata(nip):\n",
    "    tdf = idf[(idf.ip_from <= nip ) & (idf.ip_to >= nip)  & (idf.latitude != 0 ) ]\n",
    "    if tdf.shape[0] == 0: return nulllst\n",
    "    retlst = tdf[retcols].iloc[0].to_list()\n",
    "    return retlst\n",
    "\n",
    "tdfx = tdfy.copy()[:]\n",
    "tdfx[retcols] = pd.DataFrame(tdfx.NIP.map(fetchIPdata).tolist(), index= tdfx.index)\n",
    "tdfx = tdfx.dropna()\n",
    "''' Mark each row with the number of GEO IP addresses in that traceroute '''\n",
    "tdfx['GEOCOUNT'] = tdfx.groupby('HDATE')['HDATE'].transform('count')\n",
    "dumpdf(tdfx)"
   ]
  },
  {
   "cell_type": "code",
   "execution_count": null,
   "metadata": {
    "deletable": true,
    "editable": true
   },
   "outputs": [],
   "source": [
    "writejoin(tdfx.set_index('TIMESTAMP'),DATADIR2,\"TRACEROUTE_SAVE.csv\")"
   ]
  },
  {
   "cell_type": "markdown",
   "metadata": {},
   "source": [
    "#### Read back from file"
   ]
  },
  {
   "cell_type": "code",
   "execution_count": null,
   "metadata": {
    "deletable": true,
    "editable": true
   },
   "outputs": [],
   "source": [
    "tdfx = to_ts(readjoin(DATADIR2,\"TRACEROUTE_SAVE.csv\"))\n",
    "dumpdf(tdfx)"
   ]
  },
  {
   "cell_type": "code",
   "execution_count": null,
   "metadata": {
    "deletable": true,
    "editable": true
   },
   "outputs": [],
   "source": [
    "def runIPdf(fdf):\n",
    "    fdf['geometry'] = pt2geom(fdf,latcol='latitude',lngcol='longitude')\n",
    "    fdf['geometrynext'] = fdf['geometry'].shift(-1)\n",
    "    fdf['region_name_next'] = fdf['region_name'].shift(-1)\n",
    "    fdf['city_name_next'] = fdf['city_name'].shift(-1)\n",
    "    fdf = fdf.dropna()\n",
    "    # print(fdf.shape[0],fdf)\n",
    "    tgp = df2gp(fdf.copy())\n",
    "    tgp['LINEGEO'] = tgp.apply(lambda row: LineString([row['geometry'],row['geometrynext']]), axis = 1)\n",
    "    # print(type(tgp))\n",
    "    return tgp\n",
    "tgpa = runIPdf(tdfx).reset_index(drop=True)"
   ]
  },
  {
   "cell_type": "code",
   "execution_count": null,
   "metadata": {
    "deletable": true,
    "editable": true
   },
   "outputs": [],
   "source": [
    "def plotMap(fgp,title=\"NONE\",saveon=False,filename=\"tmp.png\"):\n",
    "    tablecolumns = ['city_name','region_name','IP']\n",
    "    tabdf = fgp[tablecolumns]\n",
    "    plt.rcParams.update({'font.size': 12})\n",
    "    # plt.figure(figsize=(20,20))\n",
    "    fig, ax = plt.subplots()\n",
    "    plt.subplots_adjust(left=0.2, right=0.8, bottom=0.3, top=0.9)\n",
    "    # fig.subplots_adjust(hspace=30.0)\n",
    "    ax= gp_plotPoints(usagb,ax=ax, mapon=True, alpha=0)\n",
    "    ax = gp_plotPoints(fgp,ax=ax, mapon=True,c='red',title=title)\n",
    "    fgp = fgp[:-1] # Remove the last line -- belongs to next group\n",
    "    ax = gp_plotLines(fgp,mapon=True,geocol='LINEGEO',ax=ax,color='green')\n",
    "    table = ax.table(cellText=tabdf.values, colLabels=tabdf.columns,cellLoc='center', loc='bottom')\n",
    "    table.scale(1,1)\n",
    "    table.auto_set_font_size(False)\n",
    "    table.set_fontsize(10)\n",
    "    if saveon:\n",
    "        savePlot(ax,filename)\n",
    "\n",
    "''' Slice Plot '''\n",
    "tgpb = tgpa.copy()\n",
    "tgroup = tgpb.groupby('HDATE')\n",
    "print(f\"NUMBER OF TRACEROUTES: {tgroup.ngroups}\")\n",
    "pltstart = 0\n",
    "pltlimit = pltstart + 3\n",
    "for ii, (name, group) in enumerate(tgroup):\n",
    "    if ii >= pltstart:\n",
    "        print(ii,name)\n",
    "        # dumpdf(group,head=group.shape[0])\n",
    "        title = f\"{group.SACCESS.iloc[0]} to {group.SDEST.iloc[0]} run={ii} allhop={group.FULLCOUNT.iloc[0]} geohops={group.GEOCOUNT.iloc[0]}\\n{group.HDATE.iloc[0]}\"\n",
    "        filename=f\"TRACEROUTE_MAP_{group.SACCESS.iloc[0]}_{group.SDEST.iloc[0]}_RUN_{ii}_{group.HDATE.iloc[0]}.png\"\n",
    "        plotMap(group[1:],title=title,filename=filename,saveon=True)\n",
    "    if ii >= pltlimit: break\n",
    "# dumpdf(tgpb)"
   ]
  },
  {
   "cell_type": "code",
   "execution_count": null,
   "metadata": {
    "deletable": true,
    "editable": true
   },
   "outputs": [],
   "source": [
    "''' Filter Plot '''\n",
    "saccess = \"CBRS\"\n",
    "sdest = \"AWS\"\n",
    "tgpb = tgpa.copy()[(tgpa.SACCESS == saccess) & (tgpa.SDEST == sdest)]\n",
    "tgroup = tgpb.groupby('HDATE')\n",
    "print(f\"NUMBER OF TRACEROUTES: {tgroup.ngroups}\")\n",
    "pltstart = 24\n",
    "pltlimit = pltstart + 4\n",
    "for ii, (name, group) in enumerate(tgroup):\n",
    "    if ii >= pltstart:\n",
    "        print(ii,name)\n",
    "        title = f\"{group.SACCESS.iloc[0]} to {group.SDEST.iloc[0]} run={ii} allhop={group.FULLCOUNT.iloc[0]} geohops={group.GEOCOUNT.iloc[0]}\\n{group.HDATE.iloc[0]}\"\n",
    "        filename=f\"TRACEROUTE_MAP_{group.SACCESS.iloc[0]}_{group.SDEST.iloc[0]}_RUN_{ii}_{group.HDATE.iloc[0]}.png\"\n",
    "        plotMap(group[1:],title=title,filename=filename,saveon=True)\n",
    "    if ii >= pltlimit: break\n",
    "# dumpdf(tgpb)"
   ]
  },
  {
   "cell_type": "code",
   "execution_count": null,
   "metadata": {
    "deletable": true,
    "editable": true
   },
   "outputs": [],
   "source": [
    "def makeHist(fdf,col,title=\"UNKNOWN\", filename=\"tmp.png\"):\n",
    "    sdestlst = list(fdf.SDEST.drop_duplicates())\n",
    "    sacclst = list(fdf.SACCESS.drop_duplicates())\n",
    "    plt.rcParams.update({'font.size': 12})\n",
    "    fig, ax = plt.subplots()\n",
    "    legendlabellst = []\n",
    "    for SDEST in sdestlst:\n",
    "        for SACCESS in sacclst:\n",
    "            print(f\"{SDEST} {SACCESS}\")\n",
    "            fdf1 = fdf[(fdf.SDEST == SDEST) & (fdf.SACCESS == SACCESS)]\n",
    "            ax = histplot(fdf1[col], ax=ax, title=title, tabon=False, legend=True,fontsize=12)\n",
    "            legendlabellst.append(f\"{SDEST} {SACCESS}\")\n",
    "    ax.legend(labels = legendlabellst,fontsize=12)\n",
    "    savePlot(ax,filename)\n",
    "filename=f\"TRACEROUTE_HISTOGRAM_{tdfx.HDATE.iloc[0]}_{tdfx.HDATE.iloc[-1]}.png\"\n",
    "dumpdf(tdfx[['SDEST','SACCESS','FULLCOUNT','HDATE']])\n",
    "ax = makeHist(tdfx[['SDEST','SACCESS','FULLCOUNT','HDATE']].drop_duplicates('HDATE'),'FULLCOUNT', title=f\"TRACERT FULLCOUNT RESULTS\", filename=\"FULLCOUNT_\"+filename)\n",
    "# ax = makeHist(tdfx[['SDEST','SACCESS','GEOCOUNT']],'GEOCOUNT', title=f\"TRACERT GEOCOUNT RESULTS\",filename=\"GEOCOUNT_\"+filename)"
   ]
  },
  {
   "cell_type": "code",
   "execution_count": null,
   "metadata": {
    "deletable": true,
    "editable": true
   },
   "outputs": [],
   "source": [
    "colname = 'FULLCOUNT'\n",
    "tdfy = tdfx.copy()\n",
    "tdfy['PRIVATECOUNT'] = tdfy.FULLCOUNT - tdfy.GEOCOUNT\n",
    "tdfy = tdfy.drop_duplicates(['HDATE',colname])\n",
    "\n",
    "WINDOW=60\n",
    "print(WINDOW,tdfy[colname].min(),tdfy[colname].max())\n",
    "# dumpdf(tdfy)\n",
    "def makeLine(fdf,col,title=\"UNKNOWN\", filename=\"tmp.png\"):\n",
    "    sdestlst = list(fdf.SDEST.drop_duplicates())\n",
    "    sacclst = list(fdf.SACCESS.drop_duplicates())\n",
    "    plt.rcParams.update({'font.size': 12})\n",
    "    fig, ax = plt.subplots()\n",
    "    legendlabellst = []\n",
    "    for SDEST in sdestlst:\n",
    "        for SACCESS in sacclst:\n",
    "            fdf1 = fdf[(tdfy.SDEST == SDEST) & (tdfy.SACCESS == SACCESS)]\n",
    "            ax = ts_lineplot(fdf1,[col], ax=ax, title=f\"TRACEROUTE RESULTS {col}\",legend=True)\n",
    "            legendlabellst.append(f\"{SDEST} {SACCESS}\")\n",
    "    ax.legend(labels=legendlabellst,fontsize=12)\n",
    "\n",
    "    # savePlot(ax,filename)\n",
    "\n",
    "makeLine(tdfy,colname)"
   ]
  },
  {
   "cell_type": "code",
   "execution_count": null,
   "metadata": {},
   "outputs": [],
   "source": [
    "def makeTable(fdf,title=\"UNKNOWN\",filename=\"tmp.png\"):\n",
    "    print(filename)\n",
    "    sdestlst = list(fdf.SDEST.drop_duplicates())\n",
    "    sacclst = list(fdf.SACCESS.drop_duplicates())\n",
    "    describe = pd.DataFrame()\n",
    "    for SDEST in sdestlst:\n",
    "        for SACCESS in sacclst:\n",
    "            fdf1 = fdf[(tdfy.SDEST == SDEST) & (tdfy.SACCESS == SACCESS)]\n",
    "            fser = np.round(fdf1.FULLCOUNT.describe(),2)\n",
    "            fser.name = f\"{SDEST} {SACCESS}\"\n",
    "            dumpdf(fser)\n",
    "            describe = pd.concat([describe,fser],axis=1)\n",
    "    describe = describe.reset_index(names=['METRIC'])\n",
    "    plt.rcParams.update({'font.size': 12})\n",
    "    fig, ax = plt.subplots()\n",
    "    # hide axes\n",
    "    fig.patch.set_visible(False)\n",
    "    ax.axis('off')\n",
    "    ax.axis('tight')\n",
    "    table = ax.table(cellText=describe.values, colLabels=describe.columns, loc='center')\n",
    "    table.scale(1,2)\n",
    "    table.auto_set_font_size(False)\n",
    "    table.set_fontsize(12)\n",
    "    ax.set_title(title,fontsize=12)\n",
    "    fig.tight_layout()\n",
    "    plt.show()\n",
    "    savePlot(ax,filename)\n",
    "title = f\"TRACEROUTE TEST\\n{tdfy.TIMESTAMP.iloc[0].floor('1H')}\\nto {tdfy.TIMESTAMP.iloc[-1].ceil('1H')}\"\n",
    "makeTable(tdfy,title=title + \" STATISTICS\" ,filename=\"TRACEROUTE TEST STATS.png\")"
   ]
  },
  {
   "cell_type": "code",
   "execution_count": null,
   "metadata": {
    "deletable": true,
    "editable": true
   },
   "outputs": [],
   "source": [
    "dumpdf(tdfy)"
   ]
  },
  {
   "cell_type": "code",
   "execution_count": null,
   "metadata": {},
   "outputs": [],
   "source": []
  }
 ],
 "metadata": {
  "kernelspec": {
   "display_name": "py38",
   "language": "python",
   "name": "py38"
  },
  "language_info": {
   "codemirror_mode": {
    "name": "ipython",
    "version": 3
   },
   "file_extension": ".py",
   "mimetype": "text/x-python",
   "name": "python",
   "nbconvert_exporter": "python",
   "pygments_lexer": "ipython3",
   "version": "3.8.19"
  }
 },
 "nbformat": 4,
 "nbformat_minor": 4
}
