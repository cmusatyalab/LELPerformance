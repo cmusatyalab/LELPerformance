{
 "cells": [
  {
   "cell_type": "code",
   "execution_count": 6,
   "id": "27dfd35a-3535-4754-b1f7-211b988f5f0f",
   "metadata": {},
   "outputs": [],
   "source": [
    "import os\n",
    "import sys\n",
    "# print(sys.path)\n",
    "import subprocess\n",
    "import shutil\n",
    "import pandas as pd\n",
    "import numpy as np\n",
    "import calendar\n",
    "import traceback\n",
    "import json\n",
    "from pyutils import *\n",
    "from pdutils import *\n",
    "from pdpltutils import *\n",
    "from gputils import *\n",
    "from iputils import *\n",
    "import xmltodict\n",
    "import re\n",
    "import itertools\n",
    "\n",
    "from kmlmaker import KMLMaker as kmlm\n",
    "from kmlproc import KMLCombiner\n",
    "from kmlproc import TermexPingCombiner"
   ]
  },
  {
   "cell_type": "code",
   "execution_count": 2,
   "id": "f26a6fe9-53fa-4029-9e8e-0c691901af34",
   "metadata": {},
   "outputs": [
    {
     "name": "stdout",
     "output_type": "stream",
     "text": [
      "P:\\My Drive\\CMU-LEL\\Mill19\\Coverage and Performance exists\n",
      "P:\\My Drive\\CMU-LEL\\Mill19\\Coverage and Performance\\2024-10-24-PTC-Testing\\LEL-UE1 exists\n"
     ]
    }
   ],
   "source": [
    "if sys.platform == \"linux\":\n",
    "    DATADIR=\"/home/jblake1/Downloads/Network_Measurements\"\n",
    "else:\n",
    "    DATADIR=\"P:\\\\My Drive\\\\CMU-LEL\\\\Mill19\\\\Coverage and Performance\"\n",
    "    EXPDIR=os.path.join(*[DATADIR,\"2024-10-24-PTC-Testing\",\"LEL-UE1\"])\n",
    "\n",
    "DIRCHECKLIST=[DATADIR,EXPDIR]\n",
    "for DIR in DIRCHECKLIST:\n",
    "    print(f\"{DIR} exists\") if os.path.isdir(DIR) else print(f\"{DIR} does not exist\")"
   ]
  },
  {
   "cell_type": "markdown",
   "id": "7b034688-4853-4ced-b118-98933590e8f1",
   "metadata": {},
   "source": [
    "### KML File Processing"
   ]
  },
  {
   "cell_type": "code",
   "execution_count": null,
   "id": "fca174b0-43d7-461b-9ebe-1cbee086add1",
   "metadata": {},
   "outputs": [],
   "source": [
    "\n",
    "ffnlst = walkDir(EXPDIR)\n",
    "# print(ffnlst)\n",
    "pngfiles = [fn for fn in ffnlst if \".png\" in fn]\n",
    "kmlfiles =  [fn for fn in ffnlst if \".kml\" in fn ]\n",
    "txtfiles =  [fn for fn in ffnlst if \".txt\" in fn ]\n",
    "\n",
    "print(f\"pngfiles={len(pngfiles)} kmlfiles={len(kmlfiles)} txtfiles={len(txtfiles)}\")\n",
    "rxlevfiles = [fn for fn in kmlfiles if \"rxlev.kml\" in fn]\n",
    "print(rxlevfiles)"
   ]
  },
  {
   "cell_type": "code",
   "execution_count": null,
   "id": "d23d0d5b-833c-44e9-9927-8833ebe63b27",
   "metadata": {},
   "outputs": [],
   "source": [
    "# EXPDIR=os.path.join(*[DATADIR,\"2024-10-10-Mill19-Testing\",\"LEL-UE1\"])\n",
    "def runUE(filename=None,filtervalue=\"Living_Edge_Lab\"):\n",
    "    kc = kmlc()\n",
    "    # kc.setFiles(rxlevfiles)\n",
    "    kc.findFiles(EXPDIR)\n",
    "    kc.combine(ftype='merge')\n",
    "    kc.inflate()\n",
    "    kc.labelsOn()\n",
    "    kc.filter(filterin = True, filtervalue=filtervalue)\n",
    "    kc.writeKMLFile(filename=filename)\n",
    "    return kc\n",
    "\n",
    "filename = 'MadeOutput' + \"_\".join(EXPDIR.split(\"\\\\\")[-2:]) + '.kml'\n",
    "print(filename)\n",
    "kc = runUE(filename=filename,filtervalue=\"314737\")"
   ]
  },
  {
   "cell_type": "markdown",
   "id": "88b0844f-fce6-4ad0-9e5d-b85300b1c068",
   "metadata": {},
   "source": [
    "### Termux Ping Logs (parse and add to KML)"
   ]
  },
  {
   "cell_type": "code",
   "execution_count": null,
   "id": "96b7cf71-b5d7-4bd4-b106-308b02b9fed0",
   "metadata": {},
   "outputs": [],
   "source": [
    "pingtxtfiles = [fn for fn in txtfiles if \"ping\" in fn]\n",
    "# print(pingtxtfiles)"
   ]
  },
  {
   "cell_type": "code",
   "execution_count": null,
   "id": "578525e8-bd49-435b-944a-e6927f77b338",
   "metadata": {},
   "outputs": [],
   "source": [
    "''' Combine Ping Files '''\n",
    "tdft = pd.DataFrame(pingtxtfiles,columns=['FFN'])\n",
    "tdft['FILEDATA'] = tdft.FFN.map(kc.readFile)\n",
    "columns = [\"PINGTIMES\"]\n",
    "tdfx = pd.DataFrame(columns = columns)\n",
    "for fdata in list(tdft.FILEDATA):\n",
    "    sdata = [dline.strip(\"\\n\") for dline in fdata[1:]]\n",
    "    tdfy = pd.DataFrame(sdata,columns = columns)\n",
    "    tdfx = pd.concat([tdfx, tdfy],axis=0)\n",
    "\n",
    "dumpdf(tdfx)\n"
   ]
  },
  {
   "cell_type": "code",
   "execution_count": null,
   "id": "fd07f0fb-af3c-4d03-a106-a41fcd49e581",
   "metadata": {},
   "outputs": [],
   "source": [
    "print(tdfx.PINGTIMES.iloc[0])"
   ]
  },
  {
   "cell_type": "code",
   "execution_count": null,
   "id": "68fe4277-0df3-4743-9f39-1c7a95928b2c",
   "metadata": {},
   "outputs": [],
   "source": [
    "def parseTMXPingLine(row):\n",
    "    text = row.PINGTIMES\n",
    "    matchts = r\"\\[(.*?)\\].*\"\n",
    "    matchpt = r\".*time=(.*?) ms.*\"\n",
    "    return [float(re.sub(matchts, r'\\1', text)),float(re.sub(matchpt, r'\\1', text))]\n",
    "tdfx[['LTIMESTAMP','PINGTIME']] = tdfx.apply(parseTMXPingLine,axis=1,result_type='expand')\n",
    "# dumpdf(tdfx)\n",
    "# Convert to datetime, assuming the timestamps are in seconds\n",
    "tdfx['TIMESTAMP'] = pd.to_datetime(tdfx['LTIMESTAMP'], unit='s')\n",
    "# Set the timezone (e.g., to 'US/Eastern')\n",
    "tdfx['TIMESTAMP'] = tdfx['TIMESTAMP'].dt.tz_localize('UTC').dt.tz_convert('US/Eastern')\n",
    "tdfx = tdfx[['TIMESTAMP','PINGTIME']]\n",
    "tdfx['PINGTS'] = tdfx.TIMESTAMP # Save for reference later\n",
    "\n",
    "# tdfx = tdfx[tdfx.PINGTIME < 1000]\n",
    "\n",
    "dumpdf(tdfx)"
   ]
  },
  {
   "cell_type": "code",
   "execution_count": 14,
   "id": "2312bdf5-23f3-4d54-a1d9-046bf5fcefd3",
   "metadata": {},
   "outputs": [],
   "source": [
    "def histplot(dfin,title='Unknown Title',ax=None,filename='tmp.png', \n",
    "    figsize=(5,5), xlabel='',ylabel='',tabon=True, saveon=False,legend=False,\n",
    "    bins=10, alpha=0.5, fontsize = 15, yticks = True,\n",
    "    tabfontsize = 30, tabsizex = 1,tabsizey=2,**kwargs):\n",
    "    font = {'size':fontsize}\n",
    "    matplotlib.rc('font',**font)\n",
    "    df = pd.DataFrame(dfin) # in case actually a series\n",
    "    ''' Parameters '''\n",
    "    if ax is None:\n",
    "        ax = plt.figure(figsize=figsize).add_subplot(111)\n",
    "    ''' Plot '''\n",
    "    ax = df.plot.hist(bins=bins,alpha=alpha,title=title,figsize=figsize,ax=ax,legend=legend,**kwargs)\n",
    "    ax.set_xlabel(xlabel)\n",
    "    if not yticks: ax.set_yticklabels([])\n",
    "    # print(tabon)\n",
    "    if tabon:\n",
    "        tabcolWidths = [0.2]\n",
    "        tab = table(ax,np.round(df.describe(),2),loc='upper right',colWidths=tabcolWidths)\n",
    "        tab.set_fontsize(tabfontsize)\n",
    "        tab.scale(tabsizex,tabsizey)\n",
    "    if saveon:\n",
    "        print(\"Saving %s\" % filename)\n",
    "        savePlot(ax,filename)\n",
    "    return ax\n",
    "\n",
    "# title=\"Termux Ping Logs\"\n",
    "# ax=None\n",
    "# histplot(tdfx[tdfx.PINGTIME < 100].PINGTIME,ax=ax,tabon=False, title=title,saveon=False,bins=100)"
   ]
  },
  {
   "cell_type": "code",
   "execution_count": null,
   "id": "f941a8a7-2864-49b8-ab51-9a9a101fd75e",
   "metadata": {},
   "outputs": [],
   "source": [
    "kc = kmlc()\n",
    "kc.findFiles(EXPDIR)\n",
    "kc.combine()\n",
    "# _=kc.filter(filterin = True, filtervalue=\"314737\")\n",
    "_=kc.filter(filterin = True, filtername=\"PHONE STATE\", filtervalue=\"D\")\n",
    "dumpdf(kc.rxlevdf)"
   ]
  },
  {
   "cell_type": "code",
   "execution_count": null,
   "id": "582d5020-5fb0-47d9-b9c1-8c99156da594",
   "metadata": {},
   "outputs": [],
   "source": [
    "tdfy = pd.DataFrame(kc.kresult['kml']['Folder']['Placemark'])\n",
    "\n",
    "def getDataKeyValue(key,extralst):\n",
    "    for edata in extralst['Data']:\n",
    "        if edata['@name'] == key:\n",
    "            return edata['value']\n",
    "    return None\n",
    "\n",
    "tdfy['TIMESTAMP'] = tdfy.ExtendedData.map(lambda xx: getDataKeyValue('TIME',xx))\n",
    "tdfy = to_ts(tdfy,format = '%Y.%m.%d_%H.%M.%S',origtz = \"US/Eastern\", newtz=\"US/Eastern\")"
   ]
  },
  {
   "cell_type": "code",
   "execution_count": null,
   "id": "392dc2b6-cdd8-4462-b1cb-a827c95b2022",
   "metadata": {},
   "outputs": [],
   "source": [
    "dumpdf(tdfy)\n",
    "dumpdf(tdfx)"
   ]
  },
  {
   "cell_type": "code",
   "execution_count": null,
   "id": "467b1173-8d72-4e39-8a22-0d9403fb403a",
   "metadata": {},
   "outputs": [],
   "source": [
    "tdfz = pd.merge_asof( tdfy.copy().sort_values('TIMESTAMP'),tdfx.copy().sort_values('TIMESTAMP'), on='TIMESTAMP',direction='nearest').copy()"
   ]
  },
  {
   "cell_type": "code",
   "execution_count": null,
   "id": "d8fe4da1-8cb2-484b-84cf-6555a7d64632",
   "metadata": {},
   "outputs": [],
   "source": [
    "dumpdf(tdfz)"
   ]
  },
  {
   "cell_type": "code",
   "execution_count": null,
   "id": "384fd5a4-3dc0-468d-a436-fbc989e0be37",
   "metadata": {},
   "outputs": [],
   "source": [
    "# tdfz.iloc[98:100].ExtendedData.map(print)\n",
    "\n",
    "key=\"PINGTIME\"\n",
    "tdfz = tdfz.apply(kc.addDataKeyValue,axis=1, inkey=key)\n",
    "\n",
    "# tdfz.iloc[98:100].ExtendedData.map(print)"
   ]
  },
  {
   "cell_type": "code",
   "execution_count": null,
   "id": "44a9cbb0-7bd7-4382-84b5-d48b0186b273",
   "metadata": {},
   "outputs": [],
   "source": [
    "''' Get rid of datapoints where last ping was too time distant from network measurement '''\n",
    "tdfz['DELTATS'] = tdfz.TIMESTAMP-tdfz.PINGTS\n",
    "tdfz = tdfz[tdfz.DELTATS < pd.Timedelta('20 seconds')]\n",
    "dumpdf(tdfz)"
   ]
  },
  {
   "cell_type": "code",
   "execution_count": null,
   "id": "c235fe1e-2182-4193-88ff-03cd9f491e1c",
   "metadata": {},
   "outputs": [],
   "source": [
    "newdatalst = list(tdfz.ExtendedData.map(lambda xx: xx['Data']))\n",
    "# print(newdatalst)\n",
    "_=kc.replaceExtendedData(newdatalst)"
   ]
  },
  {
   "cell_type": "code",
   "execution_count": null,
   "id": "e0ac9656-66d2-47da-8a58-d8275b19562d",
   "metadata": {},
   "outputs": [],
   "source": [
    "_=kc.inflate()\n",
    "_=kc.filter(filterin = True, filtername=\"PHONE STATE\", filtervalue=\"D\")"
   ]
  },
  {
   "cell_type": "code",
   "execution_count": null,
   "id": "94864f6a-bdf6-458e-a173-53ca6888d592",
   "metadata": {},
   "outputs": [],
   "source": [
    "kc.writeKMLFile(filename=filename)"
   ]
  },
  {
   "cell_type": "code",
   "execution_count": null,
   "id": "e8cdb4a0-c889-4598-9788-8083dff11928",
   "metadata": {},
   "outputs": [],
   "source": [
    "def getEDataFields(fdf):\n",
    "    retdf = fdf.copy()\n",
    "    edatadf = fdf.ExtendedData.map(lambda xx: xx['Data'])\n",
    "    fielddf = edatadf.map(lambda xx: [subdict['@name'] for subdict in xx])\n",
    "    flst = list(set(itertools.chain.from_iterable(list(fielddf))))\n",
    "    for fld in flst:\n",
    "       retdf[fld] = retdf.ExtendedData.map(lambda xx: getDataKeyValue(fld,xx))\n",
    "    return retdf\n",
    "\n",
    "\n",
    "def getStyleFields(fdf):\n",
    "    retdf = fdf.copy()\n",
    "    retdf['LabelScale'] = fdf.Style.map(lambda xx: xx['LabelStyle']['scale'])\n",
    "    retdf['IconScale'] = fdf.Style.map(lambda xx: xx['IconStyle']['scale'])\n",
    "    retdf['IconColor'] = fdf.Style.map(lambda xx: xx['IconStyle']['color'])\n",
    "    retdf['Icon'] = fdf.Style.map(lambda xx: xx['IconStyle']['Icon']['href'])\n",
    "    return retdf\n",
    "\n",
    "def getCoordinates(fdf):\n",
    "    retdf = fdf.copy()\n",
    "    retdf[['Latitude','Longitude','Elevation']] = retdf.apply(lambda xx: xx.Point['coordinates'].split(\",\"),  axis=1, result_type=\"expand\")\n",
    "    return retdf\n",
    "\n",
    "def kmlToDF(kmldict,filename=None):\n",
    "    fdf = pd.DataFrame(kmldict['kml']['Folder']['Placemark'])\n",
    "    fdf = getEDataFields(fdf)\n",
    "    fdf = getStyleFields(fdf)\n",
    "    fdf = getStyleFields(fdf)\n",
    "    fdf = getCoordinates(fdf)\n",
    "    fdf = drp_lst(fdf,['ExtendedData','Style','Point'])\n",
    "    if filename is not None:\n",
    "        pass\n",
    "    return fdf\n",
    "\n",
    "tdfy = kmlToDF(kc.kresult)\n",
    "dumpdf(tdfy)"
   ]
  },
  {
   "cell_type": "code",
   "execution_count": null,
   "id": "ccbcf9f0-e9cc-4109-9234-44c5547fd091",
   "metadata": {},
   "outputs": [],
   "source": [
    "kc.kmlToDF(filename=\"tmp-jupyter.csv\")"
   ]
  },
  {
   "cell_type": "code",
   "execution_count": 7,
   "id": "6fd773a5-2f0d-453e-aa85-5767d6e05fa3",
   "metadata": {},
   "outputs": [
    {
     "ename": "TypeError",
     "evalue": "no numeric data to plot",
     "output_type": "error",
     "traceback": [
      "\u001b[1;31m---------------------------------------------------------------------------\u001b[0m",
      "\u001b[1;31mTypeError\u001b[0m                                 Traceback (most recent call last)",
      "Cell \u001b[1;32mIn[7], line 14\u001b[0m\n\u001b[0;32m     12\u001b[0m kc\u001b[38;5;241m.\u001b[39mfilter(filterin \u001b[38;5;241m=\u001b[39m \u001b[38;5;28;01mTrue\u001b[39;00m, filtervalue\u001b[38;5;241m=\u001b[39m\u001b[38;5;124m\"\u001b[39m\u001b[38;5;124m314737\u001b[39m\u001b[38;5;124m\"\u001b[39m)\n\u001b[0;32m     13\u001b[0m kc\u001b[38;5;241m.\u001b[39mfilter(filterin \u001b[38;5;241m=\u001b[39m \u001b[38;5;28;01mTrue\u001b[39;00m, filtername\u001b[38;5;241m=\u001b[39m\u001b[38;5;124m\"\u001b[39m\u001b[38;5;124mPHONE STATE\u001b[39m\u001b[38;5;124m\"\u001b[39m, filtervalue\u001b[38;5;241m=\u001b[39m\u001b[38;5;124m\"\u001b[39m\u001b[38;5;124mD\u001b[39m\u001b[38;5;124m\"\u001b[39m)\n\u001b[1;32m---> 14\u001b[0m \u001b[43mkc\u001b[49m\u001b[38;5;241;43m.\u001b[39;49m\u001b[43mgenHistogram\u001b[49m\u001b[43m(\u001b[49m\u001b[43m)\u001b[49m\n\u001b[0;32m     15\u001b[0m kc\u001b[38;5;241m.\u001b[39mwriteKMLFile(filename\u001b[38;5;241m=\u001b[39mfilename)\n",
      "File \u001b[1;32m~\\Git\\LELPerformance\\Network_Measurement_Project\\Jupyter\\Coverage and Performance\\kmlproc.py:370\u001b[0m, in \u001b[0;36mKMLCombiner.genHistogram\u001b[1;34m(self, key)\u001b[0m\n\u001b[0;32m    368\u001b[0m ax\u001b[38;5;241m=\u001b[39m\u001b[38;5;28;01mNone\u001b[39;00m\n\u001b[0;32m    369\u001b[0m tdfx \u001b[38;5;241m=\u001b[39m \u001b[38;5;28mself\u001b[39m\u001b[38;5;241m.\u001b[39mkmlToDF()\u001b[38;5;241m.\u001b[39mcopy()\n\u001b[1;32m--> 370\u001b[0m \u001b[43mhistplot\u001b[49m\u001b[43m(\u001b[49m\u001b[43mtdfx\u001b[49m\u001b[38;5;241;43m.\u001b[39;49m\u001b[43mPINGTIME\u001b[49m\u001b[43m,\u001b[49m\u001b[43max\u001b[49m\u001b[38;5;241;43m=\u001b[39;49m\u001b[43max\u001b[49m\u001b[43m,\u001b[49m\u001b[43mtabon\u001b[49m\u001b[38;5;241;43m=\u001b[39;49m\u001b[38;5;28;43;01mFalse\u001b[39;49;00m\u001b[43m,\u001b[49m\u001b[43m \u001b[49m\u001b[43mtitle\u001b[49m\u001b[38;5;241;43m=\u001b[39;49m\u001b[43mtitle\u001b[49m\u001b[43m,\u001b[49m\u001b[43msaveon\u001b[49m\u001b[38;5;241;43m=\u001b[39;49m\u001b[38;5;28;43;01mTrue\u001b[39;49;00m\u001b[43m,\u001b[49m\u001b[43mbins\u001b[49m\u001b[38;5;241;43m=\u001b[39;49m\u001b[38;5;241;43m100\u001b[39;49m\u001b[43m,\u001b[49m\u001b[43mby\u001b[49m\u001b[38;5;241;43m=\u001b[39;49m\u001b[43mkey\u001b[49m\u001b[43m)\u001b[49m\n",
      "File \u001b[1;32m~\\Git\\LELPerformance\\Network_Measurement_Project\\Jupyter\\Coverage and Performance\\kmlproc.py:450\u001b[0m, in \u001b[0;36mhistplot\u001b[1;34m(dfin, title, ax, filename, figsize, xlabel, ylabel, tabon, saveon, legend, bins, alpha, fontsize, yticks, tabfontsize, tabsizex, tabsizey, **kwargs)\u001b[0m\n\u001b[0;32m    448\u001b[0m     ax \u001b[38;5;241m=\u001b[39m plt\u001b[38;5;241m.\u001b[39mfigure(figsize\u001b[38;5;241m=\u001b[39mfigsize)\u001b[38;5;241m.\u001b[39madd_subplot(\u001b[38;5;241m111\u001b[39m)\n\u001b[0;32m    449\u001b[0m \u001b[38;5;250m\u001b[39m\u001b[38;5;124;03m''' Plot '''\u001b[39;00m\n\u001b[1;32m--> 450\u001b[0m ax \u001b[38;5;241m=\u001b[39m \u001b[43mdf\u001b[49m\u001b[38;5;241;43m.\u001b[39;49m\u001b[43mplot\u001b[49m\u001b[38;5;241;43m.\u001b[39;49m\u001b[43mhist\u001b[49m\u001b[43m(\u001b[49m\u001b[43mbins\u001b[49m\u001b[38;5;241;43m=\u001b[39;49m\u001b[43mbins\u001b[49m\u001b[43m,\u001b[49m\u001b[43malpha\u001b[49m\u001b[38;5;241;43m=\u001b[39;49m\u001b[43malpha\u001b[49m\u001b[43m,\u001b[49m\u001b[43mtitle\u001b[49m\u001b[38;5;241;43m=\u001b[39;49m\u001b[43mtitle\u001b[49m\u001b[43m,\u001b[49m\u001b[43mfigsize\u001b[49m\u001b[38;5;241;43m=\u001b[39;49m\u001b[43mfigsize\u001b[49m\u001b[43m,\u001b[49m\u001b[43max\u001b[49m\u001b[38;5;241;43m=\u001b[39;49m\u001b[43max\u001b[49m\u001b[43m,\u001b[49m\u001b[43mlegend\u001b[49m\u001b[38;5;241;43m=\u001b[39;49m\u001b[43mlegend\u001b[49m\u001b[43m,\u001b[49m\u001b[38;5;241;43m*\u001b[39;49m\u001b[38;5;241;43m*\u001b[39;49m\u001b[43mkwargs\u001b[49m\u001b[43m)\u001b[49m\n\u001b[0;32m    451\u001b[0m ax\u001b[38;5;241m.\u001b[39mset_xlabel(xlabel)\n\u001b[0;32m    452\u001b[0m \u001b[38;5;28;01mif\u001b[39;00m \u001b[38;5;129;01mnot\u001b[39;00m yticks: ax\u001b[38;5;241m.\u001b[39mset_yticklabels([])\n",
      "File \u001b[1;32m~\\.conda\\envs\\py38\\lib\\site-packages\\pandas\\plotting\\_core.py:1351\u001b[0m, in \u001b[0;36mPlotAccessor.hist\u001b[1;34m(self, by, bins, **kwargs)\u001b[0m\n\u001b[0;32m   1291\u001b[0m \u001b[38;5;28;01mdef\u001b[39;00m \u001b[38;5;21mhist\u001b[39m(\u001b[38;5;28mself\u001b[39m, by\u001b[38;5;241m=\u001b[39m\u001b[38;5;28;01mNone\u001b[39;00m, bins: \u001b[38;5;28mint\u001b[39m \u001b[38;5;241m=\u001b[39m \u001b[38;5;241m10\u001b[39m, \u001b[38;5;241m*\u001b[39m\u001b[38;5;241m*\u001b[39mkwargs) \u001b[38;5;241m-\u001b[39m\u001b[38;5;241m>\u001b[39m PlotAccessor:\n\u001b[0;32m   1292\u001b[0m \u001b[38;5;250m    \u001b[39m\u001b[38;5;124;03m\"\"\"\u001b[39;00m\n\u001b[0;32m   1293\u001b[0m \u001b[38;5;124;03m    Draw one histogram of the DataFrame's columns.\u001b[39;00m\n\u001b[0;32m   1294\u001b[0m \n\u001b[1;32m   (...)\u001b[0m\n\u001b[0;32m   1349\u001b[0m \u001b[38;5;124;03m        >>> ax = df.plot.hist(column=[\"age\"], by=\"gender\", figsize=(10, 8))\u001b[39;00m\n\u001b[0;32m   1350\u001b[0m \u001b[38;5;124;03m    \"\"\"\u001b[39;00m\n\u001b[1;32m-> 1351\u001b[0m     \u001b[38;5;28;01mreturn\u001b[39;00m \u001b[38;5;28;43mself\u001b[39;49m\u001b[43m(\u001b[49m\u001b[43mkind\u001b[49m\u001b[38;5;241;43m=\u001b[39;49m\u001b[38;5;124;43m\"\u001b[39;49m\u001b[38;5;124;43mhist\u001b[39;49m\u001b[38;5;124;43m\"\u001b[39;49m\u001b[43m,\u001b[49m\u001b[43m \u001b[49m\u001b[43mby\u001b[49m\u001b[38;5;241;43m=\u001b[39;49m\u001b[43mby\u001b[49m\u001b[43m,\u001b[49m\u001b[43m \u001b[49m\u001b[43mbins\u001b[49m\u001b[38;5;241;43m=\u001b[39;49m\u001b[43mbins\u001b[49m\u001b[43m,\u001b[49m\u001b[43m \u001b[49m\u001b[38;5;241;43m*\u001b[39;49m\u001b[38;5;241;43m*\u001b[39;49m\u001b[43mkwargs\u001b[49m\u001b[43m)\u001b[49m\n",
      "File \u001b[1;32m~\\.conda\\envs\\py38\\lib\\site-packages\\pandas\\plotting\\_core.py:975\u001b[0m, in \u001b[0;36mPlotAccessor.__call__\u001b[1;34m(self, *args, **kwargs)\u001b[0m\n\u001b[0;32m    972\u001b[0m             label_name \u001b[38;5;241m=\u001b[39m label_kw \u001b[38;5;129;01mor\u001b[39;00m data\u001b[38;5;241m.\u001b[39mcolumns\n\u001b[0;32m    973\u001b[0m             data\u001b[38;5;241m.\u001b[39mcolumns \u001b[38;5;241m=\u001b[39m label_name\n\u001b[1;32m--> 975\u001b[0m \u001b[38;5;28;01mreturn\u001b[39;00m \u001b[43mplot_backend\u001b[49m\u001b[38;5;241;43m.\u001b[39;49m\u001b[43mplot\u001b[49m\u001b[43m(\u001b[49m\u001b[43mdata\u001b[49m\u001b[43m,\u001b[49m\u001b[43m \u001b[49m\u001b[43mkind\u001b[49m\u001b[38;5;241;43m=\u001b[39;49m\u001b[43mkind\u001b[49m\u001b[43m,\u001b[49m\u001b[43m \u001b[49m\u001b[38;5;241;43m*\u001b[39;49m\u001b[38;5;241;43m*\u001b[39;49m\u001b[43mkwargs\u001b[49m\u001b[43m)\u001b[49m\n",
      "File \u001b[1;32m~\\.conda\\envs\\py38\\lib\\site-packages\\pandas\\plotting\\_matplotlib\\__init__.py:71\u001b[0m, in \u001b[0;36mplot\u001b[1;34m(data, kind, **kwargs)\u001b[0m\n\u001b[0;32m     69\u001b[0m         kwargs[\u001b[38;5;124m\"\u001b[39m\u001b[38;5;124max\u001b[39m\u001b[38;5;124m\"\u001b[39m] \u001b[38;5;241m=\u001b[39m \u001b[38;5;28mgetattr\u001b[39m(ax, \u001b[38;5;124m\"\u001b[39m\u001b[38;5;124mleft_ax\u001b[39m\u001b[38;5;124m\"\u001b[39m, ax)\n\u001b[0;32m     70\u001b[0m plot_obj \u001b[38;5;241m=\u001b[39m PLOT_CLASSES[kind](data, \u001b[38;5;241m*\u001b[39m\u001b[38;5;241m*\u001b[39mkwargs)\n\u001b[1;32m---> 71\u001b[0m \u001b[43mplot_obj\u001b[49m\u001b[38;5;241;43m.\u001b[39;49m\u001b[43mgenerate\u001b[49m\u001b[43m(\u001b[49m\u001b[43m)\u001b[49m\n\u001b[0;32m     72\u001b[0m plot_obj\u001b[38;5;241m.\u001b[39mdraw()\n\u001b[0;32m     73\u001b[0m \u001b[38;5;28;01mreturn\u001b[39;00m plot_obj\u001b[38;5;241m.\u001b[39mresult\n",
      "File \u001b[1;32m~\\.conda\\envs\\py38\\lib\\site-packages\\pandas\\plotting\\_matplotlib\\core.py:446\u001b[0m, in \u001b[0;36mMPLPlot.generate\u001b[1;34m(self)\u001b[0m\n\u001b[0;32m    444\u001b[0m \u001b[38;5;28;01mdef\u001b[39;00m \u001b[38;5;21mgenerate\u001b[39m(\u001b[38;5;28mself\u001b[39m) \u001b[38;5;241m-\u001b[39m\u001b[38;5;241m>\u001b[39m \u001b[38;5;28;01mNone\u001b[39;00m:\n\u001b[0;32m    445\u001b[0m     \u001b[38;5;28mself\u001b[39m\u001b[38;5;241m.\u001b[39m_args_adjust()\n\u001b[1;32m--> 446\u001b[0m     \u001b[38;5;28;43mself\u001b[39;49m\u001b[38;5;241;43m.\u001b[39;49m\u001b[43m_compute_plot_data\u001b[49m\u001b[43m(\u001b[49m\u001b[43m)\u001b[49m\n\u001b[0;32m    447\u001b[0m     \u001b[38;5;28mself\u001b[39m\u001b[38;5;241m.\u001b[39m_setup_subplots()\n\u001b[0;32m    448\u001b[0m     \u001b[38;5;28mself\u001b[39m\u001b[38;5;241m.\u001b[39m_make_plot()\n",
      "File \u001b[1;32m~\\.conda\\envs\\py38\\lib\\site-packages\\pandas\\plotting\\_matplotlib\\core.py:632\u001b[0m, in \u001b[0;36mMPLPlot._compute_plot_data\u001b[1;34m(self)\u001b[0m\n\u001b[0;32m    630\u001b[0m \u001b[38;5;66;03m# no non-numeric frames or series allowed\u001b[39;00m\n\u001b[0;32m    631\u001b[0m \u001b[38;5;28;01mif\u001b[39;00m is_empty:\n\u001b[1;32m--> 632\u001b[0m     \u001b[38;5;28;01mraise\u001b[39;00m \u001b[38;5;167;01mTypeError\u001b[39;00m(\u001b[38;5;124m\"\u001b[39m\u001b[38;5;124mno numeric data to plot\u001b[39m\u001b[38;5;124m\"\u001b[39m)\n\u001b[0;32m    634\u001b[0m \u001b[38;5;28mself\u001b[39m\u001b[38;5;241m.\u001b[39mdata \u001b[38;5;241m=\u001b[39m numeric_data\u001b[38;5;241m.\u001b[39mapply(\u001b[38;5;28mself\u001b[39m\u001b[38;5;241m.\u001b[39m_convert_to_ndarray)\n",
      "\u001b[1;31mTypeError\u001b[0m: no numeric data to plot"
     ]
    },
    {
     "data": {
      "image/png": "[encoded data removed]",
      "text/plain": [
       "<Figure size 500x500 with 1 Axes>"
      ]
     },
     "metadata": {},
     "output_type": "display_data"
    }
   ],
   "source": [
    "''' End to End Using kmlc.py '''\n",
    "tpc = TermexPingCombiner()\n",
    "tpc.findFiles(EXPDIR)\n",
    "tpc.combine()\n",
    "\n",
    "kc = KMLCombiner()\n",
    "# kc.setFiles(rxlevfiles)\n",
    "kc.findFiles(EXPDIR)\n",
    "kc.combine(ftype='merge')\n",
    "kc.addTermuxPing(tpc.getResult())\n",
    "kc.inflate()\n",
    "kc.labelsOn()\n",
    "kc.filter(filterin = True, filtervalue=\"314737\")\n",
    "kc.filter(filterin = True, filtername=\"PHONE STATE\", filtervalue=\"D\")\n",
    "kc.genHistogram()\n",
    "kc.writeKMLFile(filename=filename)"
   ]
  },
  {
   "cell_type": "code",
   "execution_count": 27,
   "id": "4c3f6b5a-372b-474c-adc8-7fd232dba32b",
   "metadata": {},
   "outputs": [
    {
     "name": "stdout",
     "output_type": "stream",
     "text": [
      "Saving PINGTIMES_2024-10-24-PTC-Testing-LEL-UE1.png\n"
     ]
    },
    {
     "data": {
      "text/plain": [
       "<Axes: title={'center': 'PINGTIMES_2024-10-24-PTC-Testing-LEL-UE1'}, ylabel='Frequency'>"
      ]
     },
     "execution_count": 27,
     "metadata": {},
     "output_type": "execute_result"
    },
    {
     "data": {
      "image/png": "[encoded data removed]",
      "text/plain": [
       "<Figure size 500x500 with 1 Axes>"
      ]
     },
     "metadata": {},
     "output_type": "display_data"
    }
   ],
   "source": [
    "title=\"PINGTIMES_\" + \"-\".join(EXPDIR.split(\"\\\\\")[-2:])\n",
    "filename=title+\".png\"\n",
    "tdfx = kc.kmlToDF()\n",
    "\n",
    "ax=None\n",
    "histplot(tdfx[tdfx.PINGTIME < 200].PINGTIME,ax=ax,tabon=True,saveon=True,title=title,filename=filename,bins=100,fontsize=10)"
   ]
  },
  {
   "cell_type": "code",
   "execution_count": null,
   "id": "42518fd7-d4b2-428e-bb53-a6569022f0d9",
   "metadata": {},
   "outputs": [],
   "source": []
  }
 ],
 "metadata": {
  "kernelspec": {
   "display_name": "py38",
   "language": "python",
   "name": "py38"
  },
  "language_info": {
   "codemirror_mode": {
    "name": "ipython",
    "version": 3
   },
   "file_extension": ".py",
   "mimetype": "text/x-python",
   "name": "python",
   "nbconvert_exporter": "python",
   "pygments_lexer": "ipython3",
   "version": "3.8.19"
  }
 },
 "nbformat": 4,
 "nbformat_minor": 5
}
