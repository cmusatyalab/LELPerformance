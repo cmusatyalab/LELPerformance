{
 "cells": [
  {
   "cell_type": "code",
   "execution_count": null,
   "id": "27dfd35a-3535-4754-b1f7-211b988f5f0f",
   "metadata": {},
   "outputs": [],
   "source": [
    "import os\n",
    "import sys\n",
    "# print(sys.path)\n",
    "import subprocess\n",
    "import shutil\n",
    "import pandas as pd\n",
    "import numpy as np\n",
    "import calendar\n",
    "import traceback\n",
    "import json\n",
    "from pyutils import *\n",
    "from pdutils import *\n",
    "from pdpltutils import *\n",
    "from gputils import *\n",
    "from iputils import *\n",
    "import xmltodict\n",
    "import re\n",
    "import itertools\n",
    "\n",
    "from kmlmaker import KMLMaker as kmlm\n",
    "from kmlproc import KMLCombiner as kmlc"
   ]
  },
  {
   "cell_type": "code",
   "execution_count": null,
   "id": "f26a6fe9-53fa-4029-9e8e-0c691901af34",
   "metadata": {},
   "outputs": [],
   "source": [
    "if sys.platform == \"linux\":\n",
    "    DATADIR=\"/home/jblake1/Downloads/Network_Measurements\"\n",
    "else:\n",
    "    DATADIR=\"P:\\\\My Drive\\\\CMU-LEL\\\\Mill19\\\\Coverage and Performance\"\n",
    "    EXPDIR=os.path.join(*[DATADIR,\"2024-10-10-Mill19-Testing\",\"LEL-UE1\"])\n",
    "\n",
    "DIRCHECKLIST=[DATADIR,EXPDIR]\n",
    "for DIR in DIRCHECKLIST:\n",
    "    print(f\"{DIR} exists\") if os.path.isdir(DIR) else print(f\"{DIR} does not exist\")"
   ]
  },
  {
   "cell_type": "markdown",
   "id": "7b034688-4853-4ced-b118-98933590e8f1",
   "metadata": {},
   "source": [
    "### KML File Processing"
   ]
  },
  {
   "cell_type": "code",
   "execution_count": null,
   "id": "fca174b0-43d7-461b-9ebe-1cbee086add1",
   "metadata": {},
   "outputs": [],
   "source": [
    "\n",
    "ffnlst = walkDir(EXPDIR)\n",
    "# print(ffnlst)\n",
    "pngfiles = [fn for fn in ffnlst if \".png\" in fn]\n",
    "kmlfiles =  [fn for fn in ffnlst if \".kml\" in fn ]\n",
    "txtfiles =  [fn for fn in ffnlst if \".txt\" in fn ]\n",
    "\n",
    "print(f\"pngfiles={len(pngfiles)} kmlfiles={len(kmlfiles)} txtfiles={len(txtfiles)}\")\n",
    "rxlevfiles = [fn for fn in kmlfiles if \"rxlev.kml\" in fn]\n",
    "print(rxlevfiles)"
   ]
  },
  {
   "cell_type": "code",
   "execution_count": null,
   "id": "d23d0d5b-833c-44e9-9927-8833ebe63b27",
   "metadata": {},
   "outputs": [],
   "source": [
    "# EXPDIR=os.path.join(*[DATADIR,\"2024-10-10-Mill19-Testing\",\"LEL-UE1\"])\n",
    "def runUE(filename=None,filtervalue=\"Living_Edge_Lab\"):\n",
    "    kc = kmlc()\n",
    "    # kc.setFiles(rxlevfiles)\n",
    "    kc.findFiles(EXPDIR)\n",
    "    kc.combine(ftype='merge')\n",
    "    kc.inflate()\n",
    "    kc.labelsOn()\n",
    "    kc.filter(filterin = True, filtervalue=filtervalue)\n",
    "    kc.writeKMLFile(filename=filename)\n",
    "    return kc\n",
    "\n",
    "filename = 'MadeOutput' + \"_\".join(EXPDIR.split(\"\\\\\")[-2:]) + '.kml'\n",
    "print(filename)\n",
    "kc = runUE(filename=filename,filtervalue=\"314737\")"
   ]
  },
  {
   "cell_type": "markdown",
   "id": "88b0844f-fce6-4ad0-9e5d-b85300b1c068",
   "metadata": {},
   "source": [
    "### Termux Ping Logs (parse and add to KML)"
   ]
  },
  {
   "cell_type": "code",
   "execution_count": null,
   "id": "96b7cf71-b5d7-4bd4-b106-308b02b9fed0",
   "metadata": {},
   "outputs": [],
   "source": [
    "pingtxtfiles = [fn for fn in txtfiles if \"ping\" in fn]\n",
    "# print(pingtxtfiles)"
   ]
  },
  {
   "cell_type": "code",
   "execution_count": null,
   "id": "578525e8-bd49-435b-944a-e6927f77b338",
   "metadata": {},
   "outputs": [],
   "source": [
    "''' Combine Ping Files '''\n",
    "tdft = pd.DataFrame(pingtxtfiles,columns=['FFN'])\n",
    "tdft['FILEDATA'] = tdft.FFN.map(kc.readFile)\n",
    "columns = [\"PINGTIMES\"]\n",
    "tdfx = pd.DataFrame(columns = columns)\n",
    "for fdata in list(tdft.FILEDATA):\n",
    "    sdata = [dline.strip(\"\\n\") for dline in fdata[1:]]\n",
    "    tdfy = pd.DataFrame(sdata,columns = columns)\n",
    "    tdfx = pd.concat([tdfx, tdfy],axis=0)\n",
    "\n",
    "dumpdf(tdfx)\n"
   ]
  },
  {
   "cell_type": "code",
   "execution_count": null,
   "id": "fd07f0fb-af3c-4d03-a106-a41fcd49e581",
   "metadata": {},
   "outputs": [],
   "source": [
    "print(tdfx.PINGTIMES.iloc[0])"
   ]
  },
  {
   "cell_type": "code",
   "execution_count": null,
   "id": "68fe4277-0df3-4743-9f39-1c7a95928b2c",
   "metadata": {},
   "outputs": [],
   "source": [
    "def parseTMXPingLine(row):\n",
    "    text = row.PINGTIMES\n",
    "    matchts = r\"\\[(.*?)\\].*\"\n",
    "    matchpt = r\".*time=(.*?) ms.*\"\n",
    "    return [float(re.sub(matchts, r'\\1', text)),float(re.sub(matchpt, r'\\1', text))]\n",
    "tdfx[['LTIMESTAMP','PINGTIME']] = tdfx.apply(parseTMXPingLine,axis=1,result_type='expand')\n",
    "# dumpdf(tdfx)\n",
    "# Convert to datetime, assuming the timestamps are in seconds\n",
    "tdfx['TIMESTAMP'] = pd.to_datetime(tdfx['LTIMESTAMP'], unit='s')\n",
    "# Set the timezone (e.g., to 'US/Eastern')\n",
    "tdfx['TIMESTAMP'] = tdfx['TIMESTAMP'].dt.tz_localize('UTC').dt.tz_convert('US/Eastern')\n",
    "tdfx = tdfx[['TIMESTAMP','PINGTIME']]\n",
    "\n",
    "# tdfx = tdfx[tdfx.PINGTIME < 1000]\n",
    "\n",
    "dumpdf(tdfx)"
   ]
  },
  {
   "cell_type": "code",
   "execution_count": null,
   "id": "2312bdf5-23f3-4d54-a1d9-046bf5fcefd3",
   "metadata": {},
   "outputs": [],
   "source": [
    "def histplot(dfin,title='Unknown Title',ax=None,filename='tmp.png', \n",
    "    figsize=(5,5), xlabel='',ylabel='',tabon=True, saveon=False,legend=False,\n",
    "    bins=10, alpha=0.5, fontsize = 15, yticks = True,\n",
    "    tabfontsize = 30, tabsizex = 1,tabsizey=2,**kwargs):\n",
    "    font = {'size':fontsize}\n",
    "    matplotlib.rc('font',**font)\n",
    "    df = pd.DataFrame(dfin) # in case actually a series\n",
    "    ''' Parameters '''\n",
    "    if ax is None:\n",
    "        ax = plt.figure(figsize=figsize).add_subplot(111)\n",
    "    ''' Plot '''\n",
    "    ax = df.plot.hist(bins=bins,alpha=alpha,title=title,figsize=figsize,ax=ax,legend=legend,**kwargs)\n",
    "    ax.set_xlabel(xlabel)\n",
    "    if not yticks: ax.set_yticklabels([])\n",
    "    # print(tabon)\n",
    "    if tabon:\n",
    "        tabcolWidths = [0.2]\n",
    "        tab = table(ax,np.round(df.describe(),2),loc='upper right',colWidths=tabcolWidths)\n",
    "        tab.set_fontsize(tabfontsize)\n",
    "        tab.scale(tabsizex,tabsizey)\n",
    "    if saveon:\n",
    "        print(\"Saving %s\" % filename)\n",
    "        savePlot(ax,filename)\n",
    "    return ax\n",
    "\n",
    "title=\"Termux Ping Logs\"\n",
    "ax=None\n",
    "histplot(tdfx[tdfx.PINGTIME < 100].PINGTIME,ax=ax,tabon=False, title=title,saveon=False,bins=100)"
   ]
  },
  {
   "cell_type": "code",
   "execution_count": null,
   "id": "f941a8a7-2864-49b8-ab51-9a9a101fd75e",
   "metadata": {},
   "outputs": [],
   "source": [
    "# kc = kmlc()\n",
    "# kc.findFiles(EXPDIR)\n",
    "# kc.combine()\n",
    "# _=kc.filter(filterin = True, filtervalue=\"314737\")\n",
    "_=kc.filter(filterin = True, filtername=\"PHONE STATE\", filtervalue=\"D\")\n",
    "dumpdf(kc.rxlevdf)"
   ]
  },
  {
   "cell_type": "code",
   "execution_count": null,
   "id": "582d5020-5fb0-47d9-b9c1-8c99156da594",
   "metadata": {},
   "outputs": [],
   "source": [
    "tdfy = pd.DataFrame(kc.kresult['kml']['Folder']['Placemark'])\n",
    "\n",
    "def getDataKeyValue(key,extralst):\n",
    "    for edata in extralst['Data']:\n",
    "        if edata['@name'] == key:\n",
    "            return edata['value']\n",
    "    return None\n",
    "\n",
    "tdfy['TIMESTAMP'] = tdfy.ExtendedData.map(lambda xx: getDataKeyValue('TIME',xx))\n",
    "tdfy = to_ts(tdfy,format = '%Y.%m.%d_%H.%M.%S',origtz = \"US/Eastern\", newtz=\"US/Eastern\")"
   ]
  },
  {
   "cell_type": "code",
   "execution_count": null,
   "id": "392dc2b6-cdd8-4462-b1cb-a827c95b2022",
   "metadata": {},
   "outputs": [],
   "source": [
    "dumpdf(tdfy)\n",
    "dumpdf(tdfx)"
   ]
  },
  {
   "cell_type": "code",
   "execution_count": null,
   "id": "467b1173-8d72-4e39-8a22-0d9403fb403a",
   "metadata": {},
   "outputs": [],
   "source": [
    "tdfz = pd.merge_asof( tdfy.copy().sort_values('TIMESTAMP'),tdfx.copy().sort_values('TIMESTAMP'), on='TIMESTAMP',direction='nearest').copy()"
   ]
  },
  {
   "cell_type": "code",
   "execution_count": null,
   "id": "384fd5a4-3dc0-468d-a436-fbc989e0be37",
   "metadata": {},
   "outputs": [],
   "source": [
    "# tdfz.iloc[98:100].ExtendedData.map(print)\n",
    "\n",
    "key=\"PINGTIME\"\n",
    "tdfz = tdfz.apply(kc.addDataKeyValue,axis=1, inkey=key)\n",
    "\n",
    "# tdfz.iloc[98:100].ExtendedData.map(print)"
   ]
  },
  {
   "cell_type": "code",
   "execution_count": null,
   "id": "44a9cbb0-7bd7-4382-84b5-d48b0186b273",
   "metadata": {},
   "outputs": [],
   "source": [
    "dumpdf(tdfz)"
   ]
  },
  {
   "cell_type": "code",
   "execution_count": null,
   "id": "c235fe1e-2182-4193-88ff-03cd9f491e1c",
   "metadata": {},
   "outputs": [],
   "source": [
    "newdatalst = list(tdfz.ExtendedData.map(lambda xx: xx['Data']))\n",
    "_=kc.replaceExtendedData(newdatalst)"
   ]
  },
  {
   "cell_type": "code",
   "execution_count": null,
   "id": "e0ac9656-66d2-47da-8a58-d8275b19562d",
   "metadata": {},
   "outputs": [],
   "source": [
    "_=kc.inflate()\n",
    "_=kc.filter(filterin = True, filtername=\"PHONE STATE\", filtervalue=\"D\")"
   ]
  },
  {
   "cell_type": "code",
   "execution_count": null,
   "id": "94864f6a-bdf6-458e-a173-53ca6888d592",
   "metadata": {},
   "outputs": [],
   "source": [
    "kc.writeKMLFile(filename=filename)"
   ]
  },
  {
   "cell_type": "code",
   "execution_count": null,
   "id": "e8cdb4a0-c889-4598-9788-8083dff11928",
   "metadata": {},
   "outputs": [],
   "source": [
    "def getEDataFields(fdf):\n",
    "    retdf = fdf.copy()\n",
    "    edatadf = fdf.ExtendedData.map(lambda xx: xx['Data'])\n",
    "    fielddf = edatadf.map(lambda xx: [subdict['@name'] for subdict in xx])\n",
    "    flst = list(set(itertools.chain.from_iterable(list(fielddf))))\n",
    "    for fld in flst:\n",
    "       retdf[fld] = retdf.ExtendedData.map(lambda xx: getDataKeyValue(fld,xx))\n",
    "    return retdf\n",
    "\n",
    "\n",
    "def getStyleFields(fdf):\n",
    "    retdf = fdf.copy()\n",
    "    retdf['LabelScale'] = fdf.Style.map(lambda xx: xx['LabelStyle']['scale'])\n",
    "    retdf['IconScale'] = fdf.Style.map(lambda xx: xx['IconStyle']['scale'])\n",
    "    retdf['IconColor'] = fdf.Style.map(lambda xx: xx['IconStyle']['color'])\n",
    "    retdf['Icon'] = fdf.Style.map(lambda xx: xx['IconStyle']['Icon']['href'])\n",
    "    return retdf\n",
    "\n",
    "def getCoordinates(fdf):\n",
    "    retdf = fdf.copy()\n",
    "    retdf[['Latitude','Longitude','Elevation']] = retdf.apply(lambda xx: xx.Point['coordinates'].split(\",\"),  axis=1, result_type=\"expand\")\n",
    "    return retdf\n",
    "\n",
    "def kmlToDF(kmldict,filename=None):\n",
    "    fdf = pd.DataFrame(kmldict['kml']['Folder']['Placemark'])\n",
    "    fdf = getEDataFields(fdf)\n",
    "    fdf = getStyleFields(fdf)\n",
    "    fdf = getStyleFields(fdf)\n",
    "    fdf = getCoordinates(fdf)\n",
    "    fdf = drp_lst(fdf,['ExtendedData','Style','Point'])\n",
    "    if filename is not None:\n",
    "        pass\n",
    "    return fdf\n",
    "\n",
    "tdfy = kmlToDF(kc.kresult)\n",
    "dumpdf(tdfy)"
   ]
  },
  {
   "cell_type": "code",
   "execution_count": null,
   "id": "ccbcf9f0-e9cc-4109-9234-44c5547fd091",
   "metadata": {},
   "outputs": [],
   "source": [
    "kc.kmlToDF(filename=\"tmp-jupyter.csv\")"
   ]
  },
  {
   "cell_type": "code",
   "execution_count": null,
   "id": "6fd773a5-2f0d-453e-aa85-5767d6e05fa3",
   "metadata": {},
   "outputs": [],
   "source": []
  }
 ],
 "metadata": {
  "kernelspec": {
   "display_name": "py38",
   "language": "python",
   "name": "py38"
  },
  "language_info": {
   "codemirror_mode": {
    "name": "ipython",
    "version": 3
   },
   "file_extension": ".py",
   "mimetype": "text/x-python",
   "name": "python",
   "nbconvert_exporter": "python",
   "pygments_lexer": "ipython3",
   "version": "3.8.19"
  }
 },
 "nbformat": 4,
 "nbformat_minor": 5
}
