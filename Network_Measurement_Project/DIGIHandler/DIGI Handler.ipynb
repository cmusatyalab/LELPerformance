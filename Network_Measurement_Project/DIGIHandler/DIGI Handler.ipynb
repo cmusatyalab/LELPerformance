{
 "cells": [
  {
   "cell_type": "code",
   "execution_count": null,
   "id": "93ac015d",
   "metadata": {},
   "outputs": [],
   "source": [
    "import os\n",
    "import sys\n",
    "import subprocess\n",
    "import shutil\n",
    "import pandas as pd\n",
    "import numpy as np\n",
    "import xmltodict\n",
    "import json\n",
    "import hashlib\n",
    "import requests\n",
    "import getpass\n",
    "from requests import Response\n",
    "from time import sleep\n",
    "\n",
    "import matplotlib\n",
    "import matplotlib.pyplot as plt\n",
    "from pandas.plotting import table\n",
    "\n",
    "HOMEDIR=\".\""
   ]
  },
  {
   "cell_type": "code",
   "execution_count": null,
   "id": "72868795",
   "metadata": {},
   "outputs": [],
   "source": [
    "sys.path.append(\"../../lib\")\n",
    "print(sys.path)\n",
    "from pyutils import *\n",
    "from pdutils import *\n",
    "from pdpltutils import *\n",
    "from gputils import *\n",
    "from iputils import *\n",
    "from DIGIHandler import DIGIHandler"
   ]
  },
  {
   "cell_type": "markdown",
   "id": "09397e87",
   "metadata": {},
   "source": [
    "### Using the DIGIHandler class"
   ]
  },
  {
   "cell_type": "code",
   "execution_count": null,
   "id": "ee9423bd",
   "metadata": {},
   "outputs": [],
   "source": [
    "dh = DIGIHandler()\n",
    "dh.setPassword()\n",
    "dh.getModemStatus(output=False)"
   ]
  },
  {
   "cell_type": "code",
   "execution_count": null,
   "id": "ad7b1864",
   "metadata": {},
   "outputs": [],
   "source": [
    "dh.toggleSIM()"
   ]
  },
  {
   "cell_type": "code",
   "execution_count": null,
   "id": "cb94fc8e",
   "metadata": {},
   "outputs": [],
   "source": [
    "dh.waitForConnect()"
   ]
  },
  {
   "cell_type": "code",
   "execution_count": null,
   "id": "7a809a9f",
   "metadata": {},
   "outputs": [],
   "source": [
    "dh.pingTest(dest=\"cloudlet020.elijah.cs.cmu.edu\",c=10)"
   ]
  },
  {
   "cell_type": "code",
   "execution_count": null,
   "id": "b034879b",
   "metadata": {},
   "outputs": [],
   "source": [
    "pingres =  dh.pingTest(dest=\"cloudlet020.elijah.cs.cmu.edu\",c=2)\n",
    "print(pingres)"
   ]
  },
  {
   "cell_type": "code",
   "execution_count": null,
   "id": "abac92a0",
   "metadata": {},
   "outputs": [],
   "source": [
    "linelib = []\n",
    "''' Alternately run a ping test on each SIM '''\n",
    "for ii in range(0,5):\n",
    "    dh.waitForConnect()\n",
    "    sleep(5)\n",
    "    sno, sname = dh.getCurrentSIM()\n",
    "    print(sno,sname)\n",
    "    res = dh.pingTest(dest=\"cloudlet020.elijah.cs.cmu.edu\",c=10)\n",
    "    linelib.extend([f\"{humandatenow()},{sno},{sname},{line}\" for line in res['stdout']])\n",
    "    dh.toggleSIM()\n",
    "\n",
    "print(linelib)"
   ]
  },
  {
   "cell_type": "code",
   "execution_count": null,
   "id": "050b31d4",
   "metadata": {},
   "outputs": [],
   "source": [
    "''' Process the ping output into a dataframe '''\n",
    "linelib2 = [line.split(\",\") for line in linelib]\n",
    "\n",
    "collst = ['TIMESTAMP','SIMNO','SIMNAME','RAWLINE']\n",
    "tdfx = pd.DataFrame([line for line in linelib2 if len(line) == len(collst)], \n",
    "                    columns=['TIMESTAMP','SIMNO','SIMNAME','RAWLINE'])\n",
    "tdfx = to_ts(tdfx,format = '%Y-%m-%d-%H-%M-%S-%f')\n",
    "tdfx['HEADERLINE'] = tdfx.RAWLINE.str.startswith(\"PING\")\n",
    "tdfx['PINGLINE'] = tdfx.RAWLINE.str.contains(\"time=\")\n",
    "tdfx['STATLINE'] = tdfx.RAWLINE.str.startswith(\"rtt\")\n",
    "tdfx = tdfx[tdfx.HEADERLINE | tdfx.PINGLINE | tdfx.STATLINE]\n",
    "# dumpdf(tdfx,head=len(tdfx))\n",
    "\n",
    "import re\n",
    "def parsePing(row):\n",
    "    time = np.nan\n",
    "    dest = None\n",
    "    src = None\n",
    "    statlst = None\n",
    "    if row.PINGLINE:\n",
    "        rec = re.compile(\"time=(.*) \")\n",
    "        time = float(rec.findall(row.RAWLINE)[0])\n",
    "    if row.HEADERLINE:\n",
    "        rec = re.compile(\"PING (\\S*) \")\n",
    "        dest = rec.findall(row.RAWLINE)[0]\n",
    "        rec = re.compile(\" (\\S*)\\: \")\n",
    "        src = rec.findall(row.RAWLINE)[0]\n",
    "    if row.STATLINE:\n",
    "        statlst = [float(stat) for stat in row.RAWLINE.replace(\" ms\",\"\").replace(\"mdev = \",\"\").split(\"/\")[-4:]]\n",
    "        print(statlst)\n",
    "#     print(time,dest,src,statlst)\n",
    "    return time,dest,src,statlst\n",
    "tdfx[['TIME','DEST','SRC','STATLST']] = tdfx.apply(parsePing,axis=1,result_type=\"expand\")\n",
    "# tdfx.apply(parsePing,axis=1,result_type=\"expand\")\n",
    "# dumpdf(tdfx,head=len(tdfx))\n",
    "\n",
    "tdfx['STATLST'] = tdfx.sort_index(ascending=False).STATLST.ffill().sort_index()\n",
    "\n",
    "tdfx['DEST'] = tdfx.DEST.ffill()\n",
    "\n",
    "tdfx['SRC'] = tdfx.SRC.ffill()\n",
    "\n",
    "tdfy = pd.DataFrame(list(tdfx.STATLST),columns=['min','avg','max','mdev'])\n",
    "dumpdf(tdfy)\n",
    "\n",
    "tdfx = pd.concat([tdfx.reset_index(drop=True),tdfy],axis=1)\n",
    "dumpdf(tdfx)\n",
    "\n",
    "collst = ['TIMESTAMP', 'SIMNO', 'SIMNAME', 'TIME', 'DEST', 'SRC', 'min','avg','max','mdev']\n",
    "tdfy = tdfx[tdfx.PINGLINE][collst].copy()\n",
    "dumpdf(tdfy)"
   ]
  },
  {
   "cell_type": "code",
   "execution_count": null,
   "id": "2e0faef5",
   "metadata": {},
   "outputs": [],
   "source": [
    "writejoin(tdfy.set_index('TIMESTAMP'),\".\",\"pingtest_tmp.csv\")"
   ]
  },
  {
   "cell_type": "markdown",
   "id": "c0d81a30",
   "metadata": {},
   "source": [
    "## Remote Manager Web API"
   ]
  },
  {
   "cell_type": "code",
   "execution_count": null,
   "id": "3f1ea081",
   "metadata": {},
   "outputs": [],
   "source": [
    "#!python3\n",
    "# Python example using requests library \n",
    "# Use 'pip install requests' to install the requests library.           \n",
    "\n",
    "host=\"remotemanager.digi.com\"            \n",
    "api=\"https://%s/ws/v1/devices/inventory/00000000-00000000-0004F3FF-FF94F583/\" % host\n",
    "\n",
    "# user = input(\"Username for %s: \" % host)\n",
    "user=\"USER\"\n",
    "# password = getpass.getpass(\"Password for user %s at %s:\" % (user, host))\n",
    "password=\"<PW>\"\n",
    "\n",
    "# Retaining a session when doing multiple requests can speed up your requests\n",
    "session = requests.Session()\n",
    "session.auth = (user, password)\n",
    "\n",
    "rsp = session.get(api)\n",
    "rsp.raise_for_status()\n",
    "print(\"Status code:\", rsp.status_code)\n",
    "# print(\"Result text:\", rsp.text)\n",
    "\n",
    "stts=json.loads(rsp.text)\n",
    "\n",
    "for xx in stts.keys():\n",
    "    print(f\"{xx} -> {stts[xx]}\")"
   ]
  },
  {
   "cell_type": "code",
   "execution_count": null,
   "id": "f1fc4f3d",
   "metadata": {},
   "outputs": [],
   "source": [
    "\n",
    "KEYLST = ['connection_status','provider','apn','carrier','last_connect','last_disconnect']\n",
    "def checkStatus(output=False,keylst=KEYLST):\n",
    "    session = requests.Session()\n",
    "    session.auth = (user, password)\n",
    "    rsp = session.get(api)\n",
    "    rsp.raise_for_status()\n",
    "#     print(rsp.text)\n",
    "    stts=json.loads(rsp.text)\n",
    "    if (output):\n",
    "        keyresult = \" \".join([stts[key] for key in keylst if key in stts ])\n",
    "        print(keyresult)\n",
    "    del rsp\n",
    "    del session\n",
    "    return stts\n",
    "\n",
    "TIMEOUTCT=20\n",
    "TIMEOUTWT=2\n",
    "\n",
    "def waitForConnect():\n",
    "    for ii in range(0,TIMEOUTCT):\n",
    "        stts = checkStatus()\n",
    "        connectstat=stts['connection_status']\n",
    "        carrier = stts['provider']\n",
    "        if (connectstat=='connected'):\n",
    "            print(f\"Connected to {carrier} last_disconnect={stts['last_disconnect']}\")\n",
    "#             break\n",
    "        print(f\"{ii}\")\n",
    "        sleep(TIMEOUTWT)\n",
    "                  \n",
    "# waitForConnect()"
   ]
  },
  {
   "cell_type": "code",
   "execution_count": null,
   "id": "642810aa",
   "metadata": {},
   "outputs": [],
   "source": [
    "checkStatus(output=True)"
   ]
  },
  {
   "cell_type": "markdown",
   "id": "99b2c4ae",
   "metadata": {},
   "source": [
    "## Local Web API"
   ]
  },
  {
   "cell_type": "code",
   "execution_count": null,
   "id": "6d0f8646",
   "metadata": {},
   "outputs": [],
   "source": [
    "#!python3\n",
    "# Python example using requests library \n",
    "# Use 'pip install requests' to install the requests library.           \n",
    "\n",
    "host=\"192.168.2.1\"            \n",
    "api=\"https://%s/cgi-bin/config.cgi/value/service/ssh\" % host\n",
    "print(api)\n",
    "# https://192.168.2.1/cgi-bin/config.cgi/value/service/ssh\n",
    "\n",
    "# user = input(\"Username for %s: \" % host)\n",
    "user=\"admin\"\n",
    "# password = getpass.getpass(\"Password for user %s at %s:\" % (user, host))\n",
    "password=\"<PW>\"\n",
    "\n",
    "# # Retaining a session when doing multiple requests can speed up your requests\n",
    "# session = requests.Session()\n",
    "# session.auth = (user, password)\n",
    "\n",
    "# rsp = session.get(api)\n",
    "# rsp.raise_for_status()\n",
    "# print(\"Status code:\", rsp.status_code)\n",
    "# # print(\"Result text:\", rsp.text)\n",
    "\n",
    "cmd=f\"curl -k -u {user}:{password} {api}\"\n",
    "print(cmd)\n",
    "response = cmd_all(cmd, output=True)\n",
    "\n",
    "# stts=json.loads(rsp.text)\n",
    "\n",
    "# for xx in stts.keys():\n",
    "#     print(f\"{xx} -> {stts[xx]}\")"
   ]
  },
  {
   "cell_type": "code",
   "execution_count": null,
   "id": "7dd757c2",
   "metadata": {},
   "outputs": [],
   "source": [
    "# config network modem wwan1 sim_slot\n",
    "api=\"https://%s/cgi-bin/config.cgi/value/network/interface/wwan1\" % host\n",
    "cmd=f\"curl -k -u {user}:{password} {api} -X GET\"\n",
    "print(cmd)\n",
    "response = cmd_all(cmd, output=True)"
   ]
  },
  {
   "cell_type": "code",
   "execution_count": null,
   "id": "bccc10ab",
   "metadata": {},
   "outputs": [],
   "source": [
    "cmd=\"curl -k -u admin:<PW> https://192.168.2.1/cgi-bin/config.cgi/value/service/ssh\"\n",
    "cmd_all(cmd,output=True)"
   ]
  },
  {
   "cell_type": "code",
   "execution_count": null,
   "id": "63fab78f",
   "metadata": {},
   "outputs": [],
   "source": []
  }
 ],
 "metadata": {
  "kernelspec": {
   "display_name": "Python 3 (ipykernel)",
   "language": "python",
   "name": "python3"
  },
  "language_info": {
   "codemirror_mode": {
    "name": "ipython",
    "version": 3
   },
   "file_extension": ".py",
   "mimetype": "text/x-python",
   "name": "python",
   "nbconvert_exporter": "python",
   "pygments_lexer": "ipython3",
   "version": "3.8.19"
  }
 },
 "nbformat": 4,
 "nbformat_minor": 5
}
