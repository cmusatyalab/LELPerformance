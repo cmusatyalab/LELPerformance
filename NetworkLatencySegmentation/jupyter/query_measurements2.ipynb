{
 "cells": [
  {
   "cell_type": "code",
   "execution_count": null,
   "id": "520e4521",
   "metadata": {},
   "outputs": [],
   "source": [
    "import sys\n",
    "sys.path.append(\"../lib\")\n",
    "import os\n",
    "from influxdb import InfluxDBClient, DataFrameClient\n",
    "import numpy as np\n",
    "import pandas as pd\n",
    "import seaborn as sns\n",
    "import matplotlib.pyplot as plt\n",
    "import time\n",
    "from pyutils import *\n",
    "from pdutils import *\n",
    "from pdpltutils import *\n",
    "\n"
   ]
  },
  {
   "cell_type": "code",
   "execution_count": null,
   "id": "778be579",
   "metadata": {},
   "outputs": [],
   "source": [
    "# Hardcode cloudlet IP and port for DB\n",
    "CLOUDLET_IP = '128.2.208.248'\n",
    "EPC_IP = '192.168.25.4'\n",
    "CLOUDLET_PORT = 8086\n",
    "\n",
    "# Obtain clients for ICMP databases\n",
    "CLOUDLET_ICMP_DB = 'cloudleticmp'\n",
    "WATERSPOUT_ICMP_DB = 'waterspouticmp'\n",
    "UE_ICMP_DB = 'ueicmp'\n",
    "SEG_DB = 'segmentation'"
   ]
  },
  {
   "cell_type": "code",
   "execution_count": null,
   "id": "4ccc28af",
   "metadata": {},
   "outputs": [],
   "source": [
    "cloudlet_icmp_client = InfluxDBClient(host=CLOUDLET_IP, port=CLOUDLET_PORT, database=CLOUDLET_ICMP_DB)\n",
    "df_cloudlet_icmp_client = DataFrameClient(host=CLOUDLET_IP, port=CLOUDLET_PORT, database=CLOUDLET_ICMP_DB)\n",
    "\n",
    "waterspout_icmp_client = InfluxDBClient(host=CLOUDLET_IP, port=CLOUDLET_PORT, database=WATERSPOUT_ICMP_DB)\n",
    "df_waterspout_icmp_client = DataFrameClient(host=CLOUDLET_IP, port=CLOUDLET_PORT, database=WATERSPOUT_ICMP_DB)\n",
    "\n",
    "ue_icmp_client = InfluxDBClient(host=CLOUDLET_IP, port=CLOUDLET_PORT, database=UE_ICMP_DB)\n",
    "df_ue_icmp_client = DataFrameClient(host=CLOUDLET_IP, port=CLOUDLET_PORT, database=UE_ICMP_DB)\n",
    "\n",
    "seg_client = InfluxDBClient(host=CLOUDLET_IP, port=CLOUDLET_PORT, database=SEG_DB)\n",
    "df_seg_client = DataFrameClient(host=CLOUDLET_IP, port=CLOUDLET_PORT, database=SEG_DB)\n",
    "\n",
    "measure = 'latency'\n"
   ]
  },
  {
   "cell_type": "code",
   "execution_count": null,
   "id": "85ab1c42",
   "metadata": {},
   "outputs": [],
   "source": [
    "''' Query the different nodes '''\n",
    "measure = 'latency'\n",
    "cloudlet_icmp_df = df_cloudlet_icmp_client.query(\"select * from {}\".format(measure))[measure]\n",
    "waterspout_icmp_df = df_waterspout_icmp_client.query(\"select * from {}\".format(measure))[measure]\n",
    "ue_icmp_df = df_ue_icmp_client.query(\"select * from {}\".format(measure))[measure]\n"
   ]
  },
  {
   "cell_type": "code",
   "execution_count": null,
   "id": "7f368541",
   "metadata": {},
   "outputs": [],
   "source": [
    "''' Combine the nodes and label the legs '''\n",
    "\n",
    "legdict = {1: 'ue_xran',2:'xran_epc',3:'epc_cloudlet',\n",
    "           7: 'ue_xran',6:'xran_epc',5:'epc_cloudlet',0:'start',4:'cloudlet_proc'}\n",
    "def lookupLeg(row):\n",
    "    src = row.src\n",
    "    dst = row.dst\n",
    "    name = row.NAME\n",
    "    ddir = np.nan\n",
    "    step = np.nan\n",
    "    if dst == CLOUDLET_IP:\n",
    "        ddir = \"uplink\"        \n",
    "    elif src == CLOUDLET_IP:\n",
    "        ddir = \"downlink\"\n",
    "    elif dst == EPC_IP:\n",
    "        ddir = \"uplink\"\n",
    "    elif src == EPC_IP:\n",
    "        ddir = \"downlink\"\n",
    "    if ddir == 'uplink':\n",
    "        if name == 'ue': step = 0\n",
    "        elif name == 'cloudlet': step = 3\n",
    "        elif name == 'waterspout': step = 1 if dst == EPC_IP else 2                \n",
    "    elif ddir == 'downlink':\n",
    "        if name == 'ue': step = 7\n",
    "        elif name == 'cloudlet': step = 4\n",
    "        elif name == 'waterspout': step = 5 if dst == EPC_IP else 6\n",
    "    legname = legdict[step]\n",
    "    return (ddir,step,legname)\n",
    "        \n",
    "dflst = [(cloudlet_icmp_df,'cloudlet'),(waterspout_icmp_df,'waterspout'),(ue_icmp_df,'ue')]\n",
    "\n",
    "tdfy = pd.DataFrame()\n",
    "for tup in dflst:\n",
    "    tdfx = tup[0]\n",
    "    tdfx['NAME'] = tup[1]\n",
    "    tdfx['TIMESTAMP']= pd.to_datetime(tdfx['epoch'],unit='s',utc=True)\n",
    "    tdfx[['DIRECTION','STEP','LEGNAME']] = tdfx.apply(lookupLeg,axis=1, result_type='expand')\n",
    "    tdfx = renamecol(tdfx.reset_index().copy(),col='index',newname='influxts')\n",
    "    tdfy = tdfy.append(tdfx)\n",
    "dumpdf(tdfy[['src','dst','DIRECTION','NAME','TIMESTAMP','STEP','LEGNAME']].sort_values('TIMESTAMP'), rows=17)"
   ]
  },
  {
   "cell_type": "code",
   "execution_count": null,
   "id": "9d3e08d8",
   "metadata": {},
   "outputs": [],
   "source": [
    "''' Get list of sequences in all three dataframes '''\n",
    "seqminset = list(set(ue_icmp_df.sequence) \\\n",
    "        .intersection((set(cloudlet_icmp_df.sequence) \\\n",
    "        .intersection(set(waterspout_icmp_df.sequence)))))\n",
    "\n",
    "tdfy = tdfy[tdfy.sequence.isin(seqminset)]"
   ]
  },
  {
   "cell_type": "code",
   "execution_count": null,
   "id": "3e359541",
   "metadata": {},
   "outputs": [],
   "source": [
    "''' Group the sequences, label and drop duplicate steps '''\n",
    "\n",
    "tdfz = tdfy.copy().sort_values(['sequence','TIMESTAMP'])\n",
    "\n",
    "tdfz = renamecol(tdfz.groupby(by='sequence') \\\n",
    "                 .agg('count').reset_index()[['sequence','TIMESTAMP']],col='TIMESTAMP',newname='COUNT')\n",
    "tdfz = tdfz.set_index('sequence').join(tdfy.set_index('sequence')) \\\n",
    "                .reset_index().sort_values(['sequence','STEP'])\n",
    "tdfz = tdfz.drop_duplicates(subset = ['sequence','NAME','epoch'])\n",
    "\n",
    "tdfz = tdfz[tdfz.COUNT >= 8] # remove partial data\n",
    "print(\"{}\\n{}\".format(tdfz.shape,tdfz.head(17)))"
   ]
  },
  {
   "cell_type": "code",
   "execution_count": null,
   "id": "bced9d0c",
   "metadata": {},
   "outputs": [],
   "source": [
    "tdfz['DELTA'] = tdfz.epoch - tdfz.epoch.shift(1)\n",
    "tdfz['DELTA'] = tdfz.apply(lambda row: row['epoch'] if 'ue' in row.NAME and 'uplink' in row.DIRECTION else row.DELTA, axis=1)"
   ]
  },
  {
   "cell_type": "code",
   "execution_count": null,
   "id": "c8f78cdc",
   "metadata": {},
   "outputs": [],
   "source": [
    "keepcol = ['sequence','epoch','TIMESTAMP','NAME','DIRECTION','DELTA','STEP','LEGNAME']\n",
    "tdfy = tdfz.copy()[tdfz.COUNT >= 8][keepcol].sort_values(['sequence','STEP']) \\\n",
    "                .drop_duplicates().reset_index(drop=True)\n",
    "display_all(tdfy)\n",
    "pktdf = tdfy.copy()"
   ]
  },
  {
   "cell_type": "code",
   "execution_count": null,
   "id": "44ff84b6",
   "metadata": {},
   "outputs": [],
   "source": [
    "legname = 'ue_xran'\n",
    "ddir = 'uplink'\n",
    "sdf = tdfy[(tdfy.LEGNAME == legname) & (tdfy.DIRECTION == ddir)]\n",
    "ts_lineplot(sdf,['DELTA'])"
   ]
  },
  {
   "cell_type": "code",
   "execution_count": null,
   "id": "b0a3d2ce",
   "metadata": {},
   "outputs": [],
   "source": [
    "tdfx = pktdf.copy()\n",
    "tdfx = tdfx.pivot(index=['sequence','DIRECTION'], columns=['LEGNAME'], values=['DELTA']).reset_index()\n",
    "tdfx.columns = [\"\".join(a).replace(\"DELTA\",\"\") for a in tdfx.columns.to_flat_index()]\n",
    "tdfx['start'] = tdfx.start.map(lambda col: col if not np.isnan(col) else 0)\n",
    "tdfx['cloudlet_proc'] = tdfx.cloudlet_proc.map(lambda col: col if not np.isnan(col) else 0)\n",
    "dumpdf(tdfx)\n"
   ]
  },
  {
   "cell_type": "code",
   "execution_count": null,
   "id": "794f8ed9",
   "metadata": {},
   "outputs": [],
   "source": [
    "''' Write into influxdb '''\n",
    "def writePkt(row):\n",
    "    pkt_entry = {\"measurement\":row['DIRECTION'], \n",
    "                 \"tags\": {\"sequence\": row['sequence'],\"direction\": row['DIRECTION']}, \n",
    "                 \"fields\":{\"ue_xran\": row['ue_xran'], \"xran_epc\": row['xran_epc'], \n",
    "                            \"epc_cloudlet\": row['epc_cloudlet'], \"start_epoch\": row['start'],\n",
    "                            \"cloudlet_proc\": row['cloudlet_proc']}}\n",
    "    seg_client.write_points([pkt_entry])\n",
    "\n",
    "tdfx[:].apply(writePkt,axis=1)\n",
    "    "
   ]
  },
  {
   "cell_type": "markdown",
   "id": "35b3ed2a",
   "metadata": {},
   "source": [
    "#### Now see if there are redundant measures"
   ]
  },
  {
   "cell_type": "code",
   "execution_count": null,
   "id": "b988eca1",
   "metadata": {},
   "outputs": [],
   "source": [
    "measure = 'uplink'\n",
    "seg_ul_df = df_seg_client.query(\"select * from {}\".format(measure))[measure]\n",
    "measure = 'downlink'\n",
    "seg_dl_df = df_seg_client.query(\"select * from {}\".format(measure))[measure]\n",
    "tdfy = pd.concat([seg_ul_df,seg_dl_df])"
   ]
  },
  {
   "cell_type": "code",
   "execution_count": null,
   "id": "c9fc1f86",
   "metadata": {},
   "outputs": [],
   "source": [
    "dumpdf(tdfy)"
   ]
  },
  {
   "cell_type": "code",
   "execution_count": null,
   "id": "2a12e55a",
   "metadata": {},
   "outputs": [],
   "source": [
    "tdfz = tdfx[~tdfx.isin(tdfy)].dropna()\n",
    "dumpdf(tdfz)"
   ]
  },
  {
   "cell_type": "markdown",
   "id": "484c5e51",
   "metadata": {},
   "source": []
  }
 ],
 "metadata": {
  "kernelspec": {
   "display_name": "Python 3",
   "language": "python",
   "name": "python3"
  },
  "language_info": {
   "codemirror_mode": {
    "name": "ipython",
    "version": 3
   },
   "file_extension": ".py",
   "mimetype": "text/x-python",
   "name": "python",
   "nbconvert_exporter": "python",
   "pygments_lexer": "ipython3",
   "version": "3.6.13"
  }
 },
 "nbformat": 4,
 "nbformat_minor": 5
}
