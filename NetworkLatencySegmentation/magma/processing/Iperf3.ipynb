{
 "cells": [
  {
   "cell_type": "code",
   "execution_count": 1,
   "metadata": {},
   "outputs": [
    {
     "name": "stdout",
     "output_type": "stream",
     "text": [
      "['/home/jblake1/git/NetworkLatencySegmentation/processing', '/home/jblake1/anaconda3/envs/py3.8/lib/python311.zip', '/home/jblake1/anaconda3/envs/py3.8/lib/python3.11', '/home/jblake1/anaconda3/envs/py3.8/lib/python3.11/lib-dynload', '', '/home/jblake1/anaconda3/envs/py3.8/lib/python3.11/site-packages']\n"
     ]
    }
   ],
   "source": [
    "import sys,os\n",
    "import iperf3\n",
    "print(sys.path)"
   ]
  },
  {
   "cell_type": "code",
   "execution_count": 2,
   "metadata": {},
   "outputs": [],
   "source": [
    "SERVER=\"192.168.8.153\"\n",
    "CLIENT=\"192.168.128.36\"\n",
    "PORT=5201"
   ]
  },
  {
   "cell_type": "code",
   "execution_count": 20,
   "metadata": {},
   "outputs": [],
   "source": [
    "client = iperf3.Client()\n",
    "# client.duration = 1\n",
    "client.bind_address = CLIENT\n",
    "client.server_hostname = SERVER\n",
    "client.port = PORT\n",
    "# client.blksize = 1234\n",
    "client.num_streams = 1\n",
    "client.zerocopy = True\n",
    "client.verbose = False\n",
    "client.reverse = True\n",
    "results = client.run()"
   ]
  },
  {
   "cell_type": "code",
   "execution_count": 21,
   "metadata": {},
   "outputs": [
    {
     "data": {
      "text/plain": [
       "['text',\n",
       " 'json',\n",
       " 'error',\n",
       " 'time',\n",
       " 'timesecs',\n",
       " 'system_info',\n",
       " 'version',\n",
       " 'local_host',\n",
       " 'local_port',\n",
       " 'remote_host',\n",
       " 'remote_port',\n",
       " 'tcp_mss_default',\n",
       " 'protocol',\n",
       " 'num_streams',\n",
       " 'blksize',\n",
       " 'omit',\n",
       " 'duration',\n",
       " 'local_cpu_total',\n",
       " 'local_cpu_user',\n",
       " 'local_cpu_system',\n",
       " 'remote_cpu_total',\n",
       " 'remote_cpu_user',\n",
       " 'remote_cpu_system',\n",
       " 'sent_bytes',\n",
       " 'sent_bps',\n",
       " 'received_bytes',\n",
       " 'received_bps',\n",
       " 'sent_kbps',\n",
       " 'sent_Mbps',\n",
       " 'sent_kB_s',\n",
       " 'sent_MB_s',\n",
       " 'received_kbps',\n",
       " 'received_Mbps',\n",
       " 'received_kB_s',\n",
       " 'received_MB_s',\n",
       " 'retransmits',\n",
       " '__module__',\n",
       " '__doc__',\n",
       " '__init__',\n",
       " 'reverse',\n",
       " 'type',\n",
       " '__repr__',\n",
       " '__dict__',\n",
       " '__weakref__',\n",
       " '__new__',\n",
       " '__hash__',\n",
       " '__str__',\n",
       " '__getattribute__',\n",
       " '__setattr__',\n",
       " '__delattr__',\n",
       " '__lt__',\n",
       " '__le__',\n",
       " '__eq__',\n",
       " '__ne__',\n",
       " '__gt__',\n",
       " '__ge__',\n",
       " '__reduce_ex__',\n",
       " '__reduce__',\n",
       " '__getstate__',\n",
       " '__subclasshook__',\n",
       " '__init_subclass__',\n",
       " '__format__',\n",
       " '__sizeof__',\n",
       " '__dir__',\n",
       " '__class__']"
      ]
     },
     "execution_count": 21,
     "metadata": {},
     "output_type": "execute_result"
    }
   ],
   "source": [
    "results.__dir__()"
   ]
  },
  {
   "cell_type": "code",
   "execution_count": 22,
   "metadata": {},
   "outputs": [
    {
     "data": {
      "text/plain": [
       "50.5988254309235"
      ]
     },
     "execution_count": 22,
     "metadata": {},
     "output_type": "execute_result"
    }
   ],
   "source": [
    "results.received_Mbps"
   ]
  }
 ],
 "metadata": {
  "kernelspec": {
   "display_name": "py3.8",
   "language": "python",
   "name": "py3.8"
  },
  "language_info": {
   "codemirror_mode": {
    "name": "ipython",
    "version": 3
   },
   "file_extension": ".py",
   "mimetype": "text/x-python",
   "name": "python",
   "nbconvert_exporter": "python",
   "pygments_lexer": "ipython3",
   "version": "3.11.0"
  }
 },
 "nbformat": 4,
 "nbformat_minor": 4
}
