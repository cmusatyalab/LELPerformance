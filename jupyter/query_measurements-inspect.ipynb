{
 "cells": [
  {
   "cell_type": "code",
   "execution_count": null,
   "id": "76282bee",
   "metadata": {},
   "outputs": [],
   "source": [
    "import sys\n",
    "sys.path.append(\"../lib\")\n",
    "import os\n",
    "from influxdb import InfluxDBClient, DataFrameClient\n",
    "import numpy as np\n",
    "import pandas as pd\n",
    "import seaborn as sns\n",
    "import matplotlib.pyplot as plt\n",
    "import time\n",
    "from pyutils import *\n",
    "from pdutils import *\n",
    "from pdpltutils import *\n",
    "\n"
   ]
  },
  {
   "cell_type": "code",
   "execution_count": null,
   "id": "35952855",
   "metadata": {},
   "outputs": [],
   "source": [
    "# Hardcode cloudlet IP and port for DB\n",
    "CLOUDLET_IP = '128.2.208.248'\n",
    "EPC_IP = '192.168.25.4'\n",
    "UE_IP = '192.168.25.2'\n",
    "CLOUDLET_PORT = 8086\n",
    "\n",
    "IPMAP = {CLOUDLET_IP:\"CLOUDLET\",EPC_IP:\"EPC\",UE_IP:\"UE\"}\n",
    "\n",
    "# ICMP databases\n",
    "CLOUDLET_ICMP_DB = 'cloudleticmp'\n",
    "WATERSPOUT_ICMP_DB = 'waterspouticmp'\n",
    "UE_ICMP_DB = 'ueicmp'\n",
    "XRAN_ICMP_DB = 'xranicmp'\n",
    "SEG_DB = 'segmentation'\n",
    "SEG_DB = 'segmentation'"
   ]
  },
  {
   "cell_type": "markdown",
   "id": "ca9cb181",
   "metadata": {},
   "source": [
    "### Functions"
   ]
  },
  {
   "cell_type": "code",
   "execution_count": null,
   "id": "1ed88095",
   "metadata": {},
   "outputs": [],
   "source": [
    "def dumpdf(df, rows=5):\n",
    "    print(df.shape)\n",
    "    print(df.head(rows))\n",
    "    print(df.dtypes)"
   ]
  },
  {
   "cell_type": "markdown",
   "id": "f6f50574",
   "metadata": {},
   "source": [
    "### Clients"
   ]
  },
  {
   "cell_type": "code",
   "execution_count": null,
   "id": "8344d054",
   "metadata": {},
   "outputs": [],
   "source": [
    "''' Node clients '''\n",
    "cloudlet_icmp_client = InfluxDBClient(host=CLOUDLET_IP, port=CLOUDLET_PORT, database=CLOUDLET_ICMP_DB)\n",
    "df_cloudlet_icmp_client = DataFrameClient(host=CLOUDLET_IP, port=CLOUDLET_PORT, database=CLOUDLET_ICMP_DB)\n",
    "\n",
    "waterspout_icmp_client = InfluxDBClient(host=CLOUDLET_IP, port=CLOUDLET_PORT, database=WATERSPOUT_ICMP_DB)\n",
    "df_waterspout_icmp_client = DataFrameClient(host=CLOUDLET_IP, port=CLOUDLET_PORT, database=WATERSPOUT_ICMP_DB)\n",
    "\n",
    "ue_icmp_client = InfluxDBClient(host=CLOUDLET_IP, port=CLOUDLET_PORT, database=UE_ICMP_DB)\n",
    "df_ue_icmp_client = DataFrameClient(host=CLOUDLET_IP, port=CLOUDLET_PORT, database=UE_ICMP_DB)\n",
    "\n",
    "xran_icmp_client = InfluxDBClient(host=CLOUDLET_IP, port=CLOUDLET_PORT, database=XRAN_ICMP_DB)\n",
    "df_xran_icmp_client = DataFrameClient(host=CLOUDLET_IP, port=CLOUDLET_PORT, database=XRAN_ICMP_DB)\n",
    "\n",
    "measure = 'latency'"
   ]
  },
  {
   "cell_type": "code",
   "execution_count": null,
   "id": "774a3f77",
   "metadata": {},
   "outputs": [],
   "source": [
    "''' Segmentation Clients '''\n",
    "seg_client = InfluxDBClient(host=CLOUDLET_IP, port=CLOUDLET_PORT, database=SEG_DB)\n",
    "df_seg_client = DataFrameClient(host=CLOUDLET_IP, port=CLOUDLET_PORT, database=SEG_DB)\n",
    "\n",
    "measure = 'uplink'\n",
    "seg_ul_df = df_seg_client.query(\"select * from {}\".format(measure))[measure]\n",
    "measure = 'downlink'\n",
    "seg_dl_df = df_seg_client.query(\"select * from {}\".format(measure))[measure]\n",
    "seqlst = list(set(seg_ul_df.sequence).intersection(seg_dl_df.sequence))\n",
    "seg_df = pd.concat([seg_ul_df,seg_dl_df])\n",
    "seg_df = seg_df[seg_df.sequence.isin(seqlst)].sort_values(['sequence','direction'],ascending=[True,False]).drop_duplicates()\n",
    "\n",
    "dumpdf(seg_df)"
   ]
  },
  {
   "cell_type": "markdown",
   "id": "ee4bae06",
   "metadata": {},
   "source": [
    "### Queries"
   ]
  },
  {
   "cell_type": "code",
   "execution_count": null,
   "id": "769358e7",
   "metadata": {},
   "outputs": [],
   "source": [
    "''' Node queries '''\n",
    "measure = 'latency'\n",
    "cloudlet_icmp_df = df_cloudlet_icmp_client.query(\"select * from {}\".format(measure))[measure]\n",
    "waterspout_icmp_df = df_waterspout_icmp_client.query(\"select * from {}\".format(measure))[measure]\n",
    "ue_icmp_df = df_ue_icmp_client.query(\"select * from {}\".format(measure))[measure]\n",
    "xran_icmp_df = df_xran_icmp_client.query(\"select * from {}\".format(measure))[measure]"
   ]
  },
  {
   "cell_type": "code",
   "execution_count": null,
   "id": "1dbaa8a0",
   "metadata": {},
   "outputs": [],
   "source": [
    "''' Segmentation queries '''\n",
    "measure = 'uplink'\n",
    "seg_ul_df = df_seg_client.query(\"select * from {}\".format(measure))[measure]\n",
    "measure = 'downlink'\n",
    "seg_dl_df = df_seg_client.query(\"select * from {}\".format(measure))[measure]\n",
    "seqlst = list(set(seg_ul_df.sequence).intersection(seg_dl_df.sequence))\n",
    "seg_df = pd.concat([seg_ul_df,seg_dl_df])\n",
    "seg_df = seg_df[seg_df.sequence.isin(seqlst)].sort_values(['sequence','direction'],ascending=[True,False]).drop_duplicates()\n"
   ]
  },
  {
   "cell_type": "code",
   "execution_count": null,
   "id": "e7fb0fe0",
   "metadata": {},
   "outputs": [],
   "source": [
    "display_all(seg_df)"
   ]
  },
  {
   "cell_type": "code",
   "execution_count": null,
   "id": "7b2c81eb",
   "metadata": {},
   "outputs": [],
   "source": [
    "tdfx = seg_df.copy()\n",
    "tdfx['TIMESTAMP'] = tdfx.start.map(lambda epoch: pd.to_datetime(epoch, unit = 's'))\n",
    "dumpdf(tdfx)"
   ]
  },
  {
   "cell_type": "markdown",
   "id": "fd1cf4d2",
   "metadata": {},
   "source": [
    "### Inspection"
   ]
  },
  {
   "cell_type": "code",
   "execution_count": null,
   "id": "bc4e9ba0",
   "metadata": {},
   "outputs": [],
   "source": [
    "''' Get list of sequences in all three dataframes '''\n",
    "seqminset = list(set(ue_icmp_df.sequence) \\\n",
    "    .intersection((set(cloudlet_icmp_df.sequence) \\\n",
    "    .intersection(set(waterspout_icmp_df.sequence)))))\n",
    "\n",
    "print(seqminset)"
   ]
  },
  {
   "cell_type": "code",
   "execution_count": null,
   "id": "9d6e8f57",
   "metadata": {},
   "outputs": [],
   "source": [
    "''' Waterspout fix '''\n",
    "tdfx = waterspout_icmp_df.copy()\n",
    "tdfx['SRCNAME'] = tdfx.src.map(lambda col: IPMAP[col])\n",
    "tdfx['DSTNAME'] = tdfx.dst.map(lambda col: IPMAP[col])\n",
    "# dumpdf(tdfx[tdfx.sequence.isin(seqminset)],rows=7)\n",
    "dumpdf(tdfx[tdfx.sequence.isin(seqminset)][['sequence','src','dst','SRCNAME','DSTNAME']],rows=7)\n",
    "\n",
    "thresh = 0.1\n",
    "tdfy = tdfx[(tdfx.SRCNAME == \"UE\") & (tdfx.DSTNAME == 'EPC')]\n",
    "\n",
    "tdfy['DELTA'] = tdfy.epoch - tdfy.epoch.shift(1)\n",
    "tdfy['DELTA'] = tdfy.DELTA.map(lambda col: col if col < thresh else np.NAN)\n",
    "tdfy = tdfy.dropna(subset=['DELTA'])\n",
    "dumpdf(tdfy)\n",
    "print(tdfy.DELTA.median())\n",
    "\n",
    "tdfz = tdfx.copy().groupby(by=['sequence','src','dst']).max().sort_values('epoch').reset_index()\n",
    "dumpdf(tdfz)"
   ]
  },
  {
   "cell_type": "code",
   "execution_count": null,
   "id": "3b2ceb3d",
   "metadata": {},
   "outputs": [],
   "source": [
    "''' Segmentation inspection '''\n",
    "tdfx = seg_df.copy()\n",
    "dumpdf(tdfx)"
   ]
  },
  {
   "cell_type": "code",
   "execution_count": null,
   "id": "6f1e8b4b",
   "metadata": {},
   "outputs": [],
   "source": [
    "''' EPC to Cloudlet '''\n",
    "wdf = waterspout_icmp_df.copy()\n",
    "cdf = cloudlet_icmp_df.copy()\n",
    "seqminset = list(set(waterspout_icmp_df.sequence) \\\n",
    "    .intersection((set(cloudlet_icmp_df.sequence))))\n",
    "# print(seqminset)\n",
    "wdf['NAME'] = 'waterspout'\n",
    "cdf['NAME'] = 'cloudlet'\n",
    "jdf = pd.concat([wdf,cdf])\n",
    "jdf = jdf[jdf.sequence.isin(seqminset)]\n",
    "jdf = drp_lst(jdf,['data_time','identifier','htime'])\n",
    "jdf['sepoch'] = jdf.epoch.map(lambda col: \"{}\".format(col))\n",
    "# dumpdf(wdf)\n",
    "# dumpdf(cdf)\n",
    "display_all(jdf.sort_values('epoch')[['NAME','src','dst','sequence','sepoch']])"
   ]
  },
  {
   "cell_type": "markdown",
   "id": "087b7e75",
   "metadata": {},
   "source": [
    "### XRAN inspection"
   ]
  },
  {
   "cell_type": "code",
   "execution_count": null,
   "id": "55875c9f",
   "metadata": {},
   "outputs": [],
   "source": [
    "waterspout_icmp_df = df_waterspout_icmp_client.query(\"select * from {}\".format(measure))[measure]"
   ]
  },
  {
   "cell_type": "code",
   "execution_count": null,
   "id": "1977cc4a",
   "metadata": {},
   "outputs": [],
   "source": []
  },
  {
   "cell_type": "code",
   "execution_count": null,
   "id": "600f5e6f",
   "metadata": {},
   "outputs": [],
   "source": [
    "tdfx = epochToTS(xran_icmp_df.copy().reset_index(drop=True))\n",
    "tdfy = epochToTS(ue_icmp_df.copy().reset_index(drop=True))\n",
    "tdfz = epochToTS(waterspout_icmp_df.copy().reset_index(drop=True))\n",
    "tdfw = epochToTS(cloudlet_icmp_df.copy().reset_index(drop=True))\n",
    "dumpdf(tdfx)"
   ]
  },
  {
   "cell_type": "code",
   "execution_count": null,
   "id": "94d9186b",
   "metadata": {},
   "outputs": [],
   "source": [
    "''' Use 6/9/2022 Data '''\n",
    "tdfx = tdfx[tdfx.TIMESTAMP.dt.date >= datetime.date.today()]\n",
    "tdfy = tdfy[tdfy.TIMESTAMP.dt.date >= datetime.date.today()]\n",
    "tdfz = tdfz[tdfz.TIMESTAMP.dt.date >= datetime.date.today()]\n",
    "tdfw = tdfw[tdfw.TIMESTAMP.dt.date >= datetime.date.today()]"
   ]
  },
  {
   "cell_type": "code",
   "execution_count": null,
   "id": "f866f801",
   "metadata": {},
   "outputs": [],
   "source": [
    "# tdfz = tdfz[tdfz.TIMESTAMP.dt.date >= datetime.date.today()]\n",
    "dumpdf(tdfz)"
   ]
  },
  {
   "cell_type": "code",
   "execution_count": null,
   "id": "c415e81a",
   "metadata": {},
   "outputs": [],
   "source": [
    "''' Get list of sequences in all three dataframes '''\n",
    "seqminset = list(set(tdfy.sequence) \\\n",
    "    .intersection((set(tdfz.sequence) \\\n",
    "    .intersection(set(tdfw.sequence)))))\n",
    "\n",
    "seqminset.sort()\n",
    "# print(seqminset)\n",
    "sseqminset = list(set(seqminset).intersection(set(tdfx.sequence)))\n",
    "sseqminset.sort()\n",
    "print(sseqminset)\n"
   ]
  },
  {
   "cell_type": "code",
   "execution_count": null,
   "id": "4798eb02",
   "metadata": {},
   "outputs": [],
   "source": [
    "print(list(tdfx[tdfx.sequence.isin(seqminset)].sequence.drop_duplicates().sort_values()))"
   ]
  },
  {
   "cell_type": "code",
   "execution_count": null,
   "id": "b11b0792",
   "metadata": {},
   "outputs": [],
   "source": [
    "seq = '161/41216'\n",
    "\n",
    "dumpdf(tdfx[tdfx.sequence == seq])\n",
    "dumpdf(tdfz[tdfz.sequence == seq])\n",
    "\n",
    "#     .intersection((set(cloudlet_icmp_df.sequence) \\\n",
    "#     .intersection(set(waterspout_icmp_df.sequence)))))"
   ]
  },
  {
   "cell_type": "code",
   "execution_count": null,
   "id": "8628fe42",
   "metadata": {},
   "outputs": [],
   "source": [
    "tdfx[tdfx.sequence == seq].TIMESTAMP.iloc[0] - tdfz[tdfz.sequence == seq].TIMESTAMP.iloc[0]\n"
   ]
  },
  {
   "cell_type": "code",
   "execution_count": null,
   "id": "3dd8fedb",
   "metadata": {},
   "outputs": [],
   "source": [
    "seqminset.sort()\n",
    "print(seqminset)"
   ]
  },
  {
   "cell_type": "code",
   "execution_count": null,
   "id": "acaa8140",
   "metadata": {},
   "outputs": [],
   "source": []
  }
 ],
 "metadata": {
  "kernelspec": {
   "display_name": "Python 3",
   "language": "python",
   "name": "python3"
  },
  "language_info": {
   "codemirror_mode": {
    "name": "ipython",
    "version": 3
   },
   "file_extension": ".py",
   "mimetype": "text/x-python",
   "name": "python",
   "nbconvert_exporter": "python",
   "pygments_lexer": "ipython3",
   "version": "3.6.13"
  }
 },
 "nbformat": 4,
 "nbformat_minor": 5
}
